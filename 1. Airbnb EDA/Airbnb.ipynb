{
 "cells": [
  {
   "cell_type": "markdown",
   "metadata": {},
   "source": [
    "## Airbnb Exploratory analysis"
   ]
  },
  {
   "cell_type": "code",
   "execution_count": 16,
   "metadata": {},
   "outputs": [],
   "source": [
    "import pandas as pd\n",
    "import numpy as np\n",
    "import matplotlib.pyplot as plt\n",
    "import seaborn as sns\n",
    "from importlib import reload\n",
    "plt=reload(plt)"
   ]
  },
  {
   "cell_type": "markdown",
   "metadata": {},
   "source": [
    "### Importing data"
   ]
  },
  {
   "cell_type": "code",
   "execution_count": 3,
   "metadata": {},
   "outputs": [
    {
     "data": {
      "text/html": [
       "<div>\n",
       "<style scoped>\n",
       "    .dataframe tbody tr th:only-of-type {\n",
       "        vertical-align: middle;\n",
       "    }\n",
       "\n",
       "    .dataframe tbody tr th {\n",
       "        vertical-align: top;\n",
       "    }\n",
       "\n",
       "    .dataframe thead th {\n",
       "        text-align: right;\n",
       "    }\n",
       "</style>\n",
       "<table border=\"1\" class=\"dataframe\">\n",
       "  <thead>\n",
       "    <tr style=\"text-align: right;\">\n",
       "      <th></th>\n",
       "      <th>room_id</th>\n",
       "      <th>survey_id</th>\n",
       "      <th>host_id</th>\n",
       "      <th>room_type</th>\n",
       "      <th>country</th>\n",
       "      <th>city</th>\n",
       "      <th>borough</th>\n",
       "      <th>neighborhood</th>\n",
       "      <th>reviews</th>\n",
       "      <th>overall_satisfaction</th>\n",
       "      <th>accommodates</th>\n",
       "      <th>bedrooms</th>\n",
       "      <th>bathrooms</th>\n",
       "      <th>price</th>\n",
       "      <th>minstay</th>\n",
       "      <th>name</th>\n",
       "      <th>last_modified</th>\n",
       "      <th>latitude</th>\n",
       "      <th>longitude</th>\n",
       "      <th>location</th>\n",
       "    </tr>\n",
       "  </thead>\n",
       "  <tbody>\n",
       "    <tr>\n",
       "      <th>0</th>\n",
       "      <td>10176931</td>\n",
       "      <td>1476</td>\n",
       "      <td>49180562</td>\n",
       "      <td>Shared room</td>\n",
       "      <td>NaN</td>\n",
       "      <td>Amsterdam</td>\n",
       "      <td>NaN</td>\n",
       "      <td>De Pijp / Rivierenbuurt</td>\n",
       "      <td>7</td>\n",
       "      <td>4.5</td>\n",
       "      <td>2</td>\n",
       "      <td>1.0</td>\n",
       "      <td>NaN</td>\n",
       "      <td>156.0</td>\n",
       "      <td>NaN</td>\n",
       "      <td>Red Light/ Canal view apartment (Shared)</td>\n",
       "      <td>2017-07-23 13:06:27.391699</td>\n",
       "      <td>52.356209</td>\n",
       "      <td>4.887491</td>\n",
       "      <td>0101000020E610000033FAD170CA8C13403BC5AA41982D...</td>\n",
       "    </tr>\n",
       "    <tr>\n",
       "      <th>1</th>\n",
       "      <td>8935871</td>\n",
       "      <td>1476</td>\n",
       "      <td>46718394</td>\n",
       "      <td>Shared room</td>\n",
       "      <td>NaN</td>\n",
       "      <td>Amsterdam</td>\n",
       "      <td>NaN</td>\n",
       "      <td>Centrum West</td>\n",
       "      <td>45</td>\n",
       "      <td>4.5</td>\n",
       "      <td>4</td>\n",
       "      <td>1.0</td>\n",
       "      <td>NaN</td>\n",
       "      <td>126.0</td>\n",
       "      <td>NaN</td>\n",
       "      <td>Sunny and Cozy Living room in quite neighbours</td>\n",
       "      <td>2017-07-23 13:06:23.607187</td>\n",
       "      <td>52.378518</td>\n",
       "      <td>4.896120</td>\n",
       "      <td>0101000020E6100000842A357BA095134042791F477330...</td>\n",
       "    </tr>\n",
       "    <tr>\n",
       "      <th>2</th>\n",
       "      <td>14011697</td>\n",
       "      <td>1476</td>\n",
       "      <td>10346595</td>\n",
       "      <td>Shared room</td>\n",
       "      <td>NaN</td>\n",
       "      <td>Amsterdam</td>\n",
       "      <td>NaN</td>\n",
       "      <td>Watergraafsmeer</td>\n",
       "      <td>1</td>\n",
       "      <td>0.0</td>\n",
       "      <td>3</td>\n",
       "      <td>1.0</td>\n",
       "      <td>NaN</td>\n",
       "      <td>132.0</td>\n",
       "      <td>NaN</td>\n",
       "      <td>Amsterdam</td>\n",
       "      <td>2017-07-23 13:06:23.603546</td>\n",
       "      <td>52.338811</td>\n",
       "      <td>4.943592</td>\n",
       "      <td>0101000020E6100000A51133FB3CC613403543AA285E2B...</td>\n",
       "    </tr>\n",
       "    <tr>\n",
       "      <th>3</th>\n",
       "      <td>6137978</td>\n",
       "      <td>1476</td>\n",
       "      <td>8685430</td>\n",
       "      <td>Shared room</td>\n",
       "      <td>NaN</td>\n",
       "      <td>Amsterdam</td>\n",
       "      <td>NaN</td>\n",
       "      <td>Centrum West</td>\n",
       "      <td>7</td>\n",
       "      <td>5.0</td>\n",
       "      <td>4</td>\n",
       "      <td>1.0</td>\n",
       "      <td>NaN</td>\n",
       "      <td>121.0</td>\n",
       "      <td>NaN</td>\n",
       "      <td>Canal boat RIDE in Amsterdam</td>\n",
       "      <td>2017-07-23 13:06:22.689787</td>\n",
       "      <td>52.376319</td>\n",
       "      <td>4.890028</td>\n",
       "      <td>0101000020E6100000DF180280638F134085EE92382B30...</td>\n",
       "    </tr>\n",
       "    <tr>\n",
       "      <th>4</th>\n",
       "      <td>18630616</td>\n",
       "      <td>1476</td>\n",
       "      <td>70191803</td>\n",
       "      <td>Shared room</td>\n",
       "      <td>NaN</td>\n",
       "      <td>Amsterdam</td>\n",
       "      <td>NaN</td>\n",
       "      <td>De Baarsjes / Oud West</td>\n",
       "      <td>1</td>\n",
       "      <td>0.0</td>\n",
       "      <td>2</td>\n",
       "      <td>1.0</td>\n",
       "      <td>NaN</td>\n",
       "      <td>93.0</td>\n",
       "      <td>NaN</td>\n",
       "      <td>One room for rent in a three room appartment</td>\n",
       "      <td>2017-07-23 13:06:19.681469</td>\n",
       "      <td>52.370384</td>\n",
       "      <td>4.852873</td>\n",
       "      <td>0101000020E6100000CD902A8A57691340187B2FBE682F...</td>\n",
       "    </tr>\n",
       "  </tbody>\n",
       "</table>\n",
       "</div>"
      ],
      "text/plain": [
       "    room_id  survey_id   host_id    room_type  country       city  borough  \\\n",
       "0  10176931       1476  49180562  Shared room      NaN  Amsterdam      NaN   \n",
       "1   8935871       1476  46718394  Shared room      NaN  Amsterdam      NaN   \n",
       "2  14011697       1476  10346595  Shared room      NaN  Amsterdam      NaN   \n",
       "3   6137978       1476   8685430  Shared room      NaN  Amsterdam      NaN   \n",
       "4  18630616       1476  70191803  Shared room      NaN  Amsterdam      NaN   \n",
       "\n",
       "              neighborhood  reviews  overall_satisfaction  accommodates  \\\n",
       "0  De Pijp / Rivierenbuurt        7                   4.5             2   \n",
       "1             Centrum West       45                   4.5             4   \n",
       "2          Watergraafsmeer        1                   0.0             3   \n",
       "3             Centrum West        7                   5.0             4   \n",
       "4   De Baarsjes / Oud West        1                   0.0             2   \n",
       "\n",
       "   bedrooms  bathrooms  price  minstay  \\\n",
       "0       1.0        NaN  156.0      NaN   \n",
       "1       1.0        NaN  126.0      NaN   \n",
       "2       1.0        NaN  132.0      NaN   \n",
       "3       1.0        NaN  121.0      NaN   \n",
       "4       1.0        NaN   93.0      NaN   \n",
       "\n",
       "                                             name               last_modified  \\\n",
       "0        Red Light/ Canal view apartment (Shared)  2017-07-23 13:06:27.391699   \n",
       "1  Sunny and Cozy Living room in quite neighbours  2017-07-23 13:06:23.607187   \n",
       "2                                       Amsterdam  2017-07-23 13:06:23.603546   \n",
       "3                    Canal boat RIDE in Amsterdam  2017-07-23 13:06:22.689787   \n",
       "4    One room for rent in a three room appartment  2017-07-23 13:06:19.681469   \n",
       "\n",
       "    latitude  longitude                                           location  \n",
       "0  52.356209   4.887491  0101000020E610000033FAD170CA8C13403BC5AA41982D...  \n",
       "1  52.378518   4.896120  0101000020E6100000842A357BA095134042791F477330...  \n",
       "2  52.338811   4.943592  0101000020E6100000A51133FB3CC613403543AA285E2B...  \n",
       "3  52.376319   4.890028  0101000020E6100000DF180280638F134085EE92382B30...  \n",
       "4  52.370384   4.852873  0101000020E6100000CD902A8A57691340187B2FBE682F...  "
      ]
     },
     "execution_count": 3,
     "metadata": {},
     "output_type": "execute_result"
    }
   ],
   "source": [
    "df=pd.read_csv(\"Airbnb prices.csv\")\n",
    "df.head()"
   ]
  },
  {
   "cell_type": "markdown",
   "metadata": {},
   "source": [
    "### Exploratory Analysis"
   ]
  },
  {
   "cell_type": "markdown",
   "metadata": {},
   "source": [
    "* Room types available"
   ]
  },
  {
   "cell_type": "code",
   "execution_count": 4,
   "metadata": {},
   "outputs": [
    {
     "data": {
      "text/plain": [
       "Entire home/apt    14978\n",
       "Private room        3682\n",
       "Shared room           63\n",
       "Name: room_type, dtype: int64"
      ]
     },
     "execution_count": 4,
     "metadata": {},
     "output_type": "execute_result"
    }
   ],
   "source": [
    "df[\"room_type\"].value_counts()"
   ]
  },
  {
   "cell_type": "markdown",
   "metadata": {},
   "source": [
    "* Dropping the Shared room data as they represent a very low percentage"
   ]
  },
  {
   "cell_type": "code",
   "execution_count": 5,
   "metadata": {},
   "outputs": [
    {
     "data": {
      "text/plain": [
       "Entire home/apt    14978\n",
       "Private room        3682\n",
       "Name: room_type, dtype: int64"
      ]
     },
     "execution_count": 5,
     "metadata": {},
     "output_type": "execute_result"
    }
   ],
   "source": [
    "df1=df[df[\"room_type\"]!=\"Shared room\"]\n",
    "df1[\"room_type\"].value_counts()"
   ]
  },
  {
   "cell_type": "code",
   "execution_count": 6,
   "metadata": {},
   "outputs": [
    {
     "data": {
      "image/png": "[encoded data removed]",
      "text/plain": [
       "<Figure size 576x576 with 1 Axes>"
      ]
     },
     "metadata": {},
     "output_type": "display_data"
    }
   ],
   "source": [
    "fig, ax =plt.subplots(figsize=(8,8))\n",
    "ax=plt.pie(df1[\"room_type\"].value_counts(),labels=[\"Entire home/apt\",\"Private room\"],autopct=\"% 1.1f%%\",startangle=90)"
   ]
  },
  {
   "cell_type": "markdown",
   "metadata": {},
   "source": [
    "* neighborhoods available"
   ]
  },
  {
   "cell_type": "code",
   "execution_count": 7,
   "metadata": {},
   "outputs": [
    {
     "data": {
      "text/plain": [
       "De Baarsjes / Oud West                    3280\n",
       "De Pijp / Rivierenbuurt                   2371\n",
       "Centrum West                              2217\n",
       "Centrum Oost                              1724\n",
       "Westerpark                                1424\n",
       "Noord-West / Noord-Midden                 1416\n",
       "Oud Oost                                  1167\n",
       "Bos en Lommer                              985\n",
       "Oostelijk Havengebied / Indische Buurt     916\n",
       "Watergraafsmeer                            515\n",
       "Oud Noord                                  492\n",
       "Ijburg / Eiland Zeeburg                    378\n",
       "Slotervaart                                346\n",
       "Buitenveldert / Zuidas                     248\n",
       "Noord West                                 241\n",
       "Noord Oost                                 221\n",
       "Geuzenveld / Slotermeer                    192\n",
       "Osdorp                                     161\n",
       "De Aker / Nieuw Sloten                     114\n",
       "Bijlmer Centrum                             98\n",
       "Bijlmer Oost                                97\n",
       "Gaasperdam / Driemond                       42\n",
       "Westpoort                                   15\n",
       "Name: neighborhood, dtype: int64"
      ]
     },
     "execution_count": 7,
     "metadata": {},
     "output_type": "execute_result"
    }
   ],
   "source": [
    "df1[\"neighborhood\"].value_counts()"
   ]
  },
  {
   "cell_type": "code",
   "execution_count": 17,
   "metadata": {},
   "outputs": [
    {
     "data": {
      "text/plain": [
       "Text(0.5, 1.0, 'neighborhoods available')"
      ]
     },
     "execution_count": 17,
     "metadata": {},
     "output_type": "execute_result"
    },
    {
     "data": {
      "image/png": "[encoded data removed]",
      "text/plain": [
       "<Figure size 1440x720 with 1 Axes>"
      ]
     },
     "metadata": {
      "needs_background": "light"
     },
     "output_type": "display_data"
    }
   ],
   "source": [
    "fig,ax=plt.subplots(figsize=(20,10))\n",
    "ax=sns.countplot(data=df1,x=\"neighborhood\",order=df1[\"neighborhood\"].value_counts().index)\n",
    "plt.title(\"neighborhoods available\")"
   ]
  },
  {
   "cell_type": "markdown",
   "metadata": {},
   "source": [
    "* Number of reviews"
   ]
  },
  {
   "cell_type": "code",
   "execution_count": 18,
   "metadata": {},
   "outputs": [
    {
     "data": {
      "text/plain": [
       "0      2975\n",
       "1      1500\n",
       "2      1238\n",
       "3      1100\n",
       "4       924\n",
       "       ... \n",
       "390       1\n",
       "166       1\n",
       "323       1\n",
       "201       1\n",
       "188       1\n",
       "Name: reviews, Length: 283, dtype: int64"
      ]
     },
     "execution_count": 18,
     "metadata": {},
     "output_type": "execute_result"
    }
   ],
   "source": [
    "df1[\"reviews\"].value_counts()"
   ]
  },
  {
   "cell_type": "markdown",
   "metadata": {},
   "source": [
    "* Overall Satisfaction frequency"
   ]
  },
  {
   "cell_type": "code",
   "execution_count": 19,
   "metadata": {},
   "outputs": [
    {
     "data": {
      "text/plain": [
       "5.0    7697\n",
       "0.0    5721\n",
       "4.5    4543\n",
       "4.0     573\n",
       "3.5     105\n",
       "3.0      19\n",
       "2.5       1\n",
       "1.0       1\n",
       "Name: overall_satisfaction, dtype: int64"
      ]
     },
     "execution_count": 19,
     "metadata": {},
     "output_type": "execute_result"
    }
   ],
   "source": [
    "df1[\"overall_satisfaction\"].value_counts()"
   ]
  },
  {
   "cell_type": "code",
   "execution_count": 20,
   "metadata": {},
   "outputs": [
    {
     "data": {
      "image/png": "[encoded data removed]",
      "text/plain": [
       "<Figure size 720x720 with 1 Axes>"
      ]
     },
     "metadata": {},
     "output_type": "display_data"
    }
   ],
   "source": [
    "fig,ax=plt.subplots(figsize=(10,10))\n",
    "explode = [0,0,0,0.2,0,0,0,0]\n",
    "ax=plt.pie(df1[\"overall_satisfaction\"].value_counts(),labels=df1[\"overall_satisfaction\"].unique(),startangle=90,autopct=\"%1.1f%%\"\n",
    ",explode=explode)\n"
   ]
  },
  {
   "cell_type": "markdown",
   "metadata": {},
   "source": [
    "* Zero rating list"
   ]
  },
  {
   "cell_type": "code",
   "execution_count": 21,
   "metadata": {},
   "outputs": [
    {
     "data": {
      "text/html": [
       "<div>\n",
       "<style scoped>\n",
       "    .dataframe tbody tr th:only-of-type {\n",
       "        vertical-align: middle;\n",
       "    }\n",
       "\n",
       "    .dataframe tbody tr th {\n",
       "        vertical-align: top;\n",
       "    }\n",
       "\n",
       "    .dataframe thead th {\n",
       "        text-align: right;\n",
       "    }\n",
       "</style>\n",
       "<table border=\"1\" class=\"dataframe\">\n",
       "  <thead>\n",
       "    <tr style=\"text-align: right;\">\n",
       "      <th></th>\n",
       "      <th>room_id</th>\n",
       "      <th>survey_id</th>\n",
       "      <th>host_id</th>\n",
       "      <th>country</th>\n",
       "      <th>borough</th>\n",
       "      <th>reviews</th>\n",
       "      <th>overall_satisfaction</th>\n",
       "      <th>accommodates</th>\n",
       "      <th>bedrooms</th>\n",
       "      <th>bathrooms</th>\n",
       "      <th>price</th>\n",
       "      <th>minstay</th>\n",
       "      <th>latitude</th>\n",
       "      <th>longitude</th>\n",
       "    </tr>\n",
       "  </thead>\n",
       "  <tbody>\n",
       "    <tr>\n",
       "      <th>count</th>\n",
       "      <td>5.721000e+03</td>\n",
       "      <td>5721.0</td>\n",
       "      <td>5.721000e+03</td>\n",
       "      <td>0.0</td>\n",
       "      <td>0.0</td>\n",
       "      <td>5721.000000</td>\n",
       "      <td>5721.0</td>\n",
       "      <td>5721.000000</td>\n",
       "      <td>5721.000000</td>\n",
       "      <td>0.0</td>\n",
       "      <td>5721.000000</td>\n",
       "      <td>0.0</td>\n",
       "      <td>5721.000000</td>\n",
       "      <td>5721.000000</td>\n",
       "    </tr>\n",
       "    <tr>\n",
       "      <th>mean</th>\n",
       "      <td>1.472219e+07</td>\n",
       "      <td>1476.0</td>\n",
       "      <td>4.674155e+07</td>\n",
       "      <td>NaN</td>\n",
       "      <td>NaN</td>\n",
       "      <td>0.700926</td>\n",
       "      <td>0.0</td>\n",
       "      <td>3.024821</td>\n",
       "      <td>1.554623</td>\n",
       "      <td>NaN</td>\n",
       "      <td>175.620696</td>\n",
       "      <td>NaN</td>\n",
       "      <td>52.364361</td>\n",
       "      <td>4.889534</td>\n",
       "    </tr>\n",
       "    <tr>\n",
       "      <th>std</th>\n",
       "      <td>5.209774e+06</td>\n",
       "      <td>0.0</td>\n",
       "      <td>4.424869e+07</td>\n",
       "      <td>NaN</td>\n",
       "      <td>NaN</td>\n",
       "      <td>0.814133</td>\n",
       "      <td>0.0</td>\n",
       "      <td>1.352056</td>\n",
       "      <td>0.949345</td>\n",
       "      <td>NaN</td>\n",
       "      <td>140.020220</td>\n",
       "      <td>NaN</td>\n",
       "      <td>0.015795</td>\n",
       "      <td>0.036742</td>\n",
       "    </tr>\n",
       "    <tr>\n",
       "      <th>min</th>\n",
       "      <td>2.542800e+04</td>\n",
       "      <td>1476.0</td>\n",
       "      <td>2.234000e+03</td>\n",
       "      <td>NaN</td>\n",
       "      <td>NaN</td>\n",
       "      <td>0.000000</td>\n",
       "      <td>0.0</td>\n",
       "      <td>1.000000</td>\n",
       "      <td>0.000000</td>\n",
       "      <td>NaN</td>\n",
       "      <td>22.000000</td>\n",
       "      <td>NaN</td>\n",
       "      <td>52.296200</td>\n",
       "      <td>4.771083</td>\n",
       "    </tr>\n",
       "    <tr>\n",
       "      <th>25%</th>\n",
       "      <td>1.150164e+07</td>\n",
       "      <td>1476.0</td>\n",
       "      <td>9.749992e+06</td>\n",
       "      <td>NaN</td>\n",
       "      <td>NaN</td>\n",
       "      <td>0.000000</td>\n",
       "      <td>0.0</td>\n",
       "      <td>2.000000</td>\n",
       "      <td>1.000000</td>\n",
       "      <td>NaN</td>\n",
       "      <td>114.000000</td>\n",
       "      <td>NaN</td>\n",
       "      <td>52.353951</td>\n",
       "      <td>4.862918</td>\n",
       "    </tr>\n",
       "    <tr>\n",
       "      <th>50%</th>\n",
       "      <td>1.643578e+07</td>\n",
       "      <td>1476.0</td>\n",
       "      <td>2.962380e+07</td>\n",
       "      <td>NaN</td>\n",
       "      <td>NaN</td>\n",
       "      <td>0.000000</td>\n",
       "      <td>0.0</td>\n",
       "      <td>2.000000</td>\n",
       "      <td>1.000000</td>\n",
       "      <td>NaN</td>\n",
       "      <td>150.000000</td>\n",
       "      <td>NaN</td>\n",
       "      <td>52.363567</td>\n",
       "      <td>4.886634</td>\n",
       "    </tr>\n",
       "    <tr>\n",
       "      <th>75%</th>\n",
       "      <td>1.917347e+07</td>\n",
       "      <td>1476.0</td>\n",
       "      <td>7.652614e+07</td>\n",
       "      <td>NaN</td>\n",
       "      <td>NaN</td>\n",
       "      <td>1.000000</td>\n",
       "      <td>0.0</td>\n",
       "      <td>4.000000</td>\n",
       "      <td>2.000000</td>\n",
       "      <td>NaN</td>\n",
       "      <td>209.000000</td>\n",
       "      <td>NaN</td>\n",
       "      <td>52.374183</td>\n",
       "      <td>4.909861</td>\n",
       "    </tr>\n",
       "    <tr>\n",
       "      <th>max</th>\n",
       "      <td>2.000373e+07</td>\n",
       "      <td>1476.0</td>\n",
       "      <td>1.418319e+08</td>\n",
       "      <td>NaN</td>\n",
       "      <td>NaN</td>\n",
       "      <td>5.000000</td>\n",
       "      <td>0.0</td>\n",
       "      <td>16.000000</td>\n",
       "      <td>10.000000</td>\n",
       "      <td>NaN</td>\n",
       "      <td>6000.000000</td>\n",
       "      <td>NaN</td>\n",
       "      <td>52.424980</td>\n",
       "      <td>5.013075</td>\n",
       "    </tr>\n",
       "  </tbody>\n",
       "</table>\n",
       "</div>"
      ],
      "text/plain": [
       "            room_id  survey_id       host_id  country  borough      reviews  \\\n",
       "count  5.721000e+03     5721.0  5.721000e+03      0.0      0.0  5721.000000   \n",
       "mean   1.472219e+07     1476.0  4.674155e+07      NaN      NaN     0.700926   \n",
       "std    5.209774e+06        0.0  4.424869e+07      NaN      NaN     0.814133   \n",
       "min    2.542800e+04     1476.0  2.234000e+03      NaN      NaN     0.000000   \n",
       "25%    1.150164e+07     1476.0  9.749992e+06      NaN      NaN     0.000000   \n",
       "50%    1.643578e+07     1476.0  2.962380e+07      NaN      NaN     0.000000   \n",
       "75%    1.917347e+07     1476.0  7.652614e+07      NaN      NaN     1.000000   \n",
       "max    2.000373e+07     1476.0  1.418319e+08      NaN      NaN     5.000000   \n",
       "\n",
       "       overall_satisfaction  accommodates     bedrooms  bathrooms  \\\n",
       "count                5721.0   5721.000000  5721.000000        0.0   \n",
       "mean                    0.0      3.024821     1.554623        NaN   \n",
       "std                     0.0      1.352056     0.949345        NaN   \n",
       "min                     0.0      1.000000     0.000000        NaN   \n",
       "25%                     0.0      2.000000     1.000000        NaN   \n",
       "50%                     0.0      2.000000     1.000000        NaN   \n",
       "75%                     0.0      4.000000     2.000000        NaN   \n",
       "max                     0.0     16.000000    10.000000        NaN   \n",
       "\n",
       "             price  minstay     latitude    longitude  \n",
       "count  5721.000000      0.0  5721.000000  5721.000000  \n",
       "mean    175.620696      NaN    52.364361     4.889534  \n",
       "std     140.020220      NaN     0.015795     0.036742  \n",
       "min      22.000000      NaN    52.296200     4.771083  \n",
       "25%     114.000000      NaN    52.353951     4.862918  \n",
       "50%     150.000000      NaN    52.363567     4.886634  \n",
       "75%     209.000000      NaN    52.374183     4.909861  \n",
       "max    6000.000000      NaN    52.424980     5.013075  "
      ]
     },
     "execution_count": 21,
     "metadata": {},
     "output_type": "execute_result"
    }
   ],
   "source": [
    "df_zero=df1[df1[\"overall_satisfaction\"]==0]\n",
    "df_zero.describe()"
   ]
  },
  {
   "cell_type": "markdown",
   "metadata": {},
   "source": [
    "* 3 bedrooms rating"
   ]
  },
  {
   "cell_type": "code",
   "execution_count": 22,
   "metadata": {},
   "outputs": [
    {
     "data": {
      "text/plain": [
       "0.0    635\n",
       "5.0    515\n",
       "4.5    266\n",
       "4.0     22\n",
       "3.5      5\n",
       "2.5      1\n",
       "Name: overall_satisfaction, dtype: int64"
      ]
     },
     "execution_count": 22,
     "metadata": {},
     "output_type": "execute_result"
    }
   ],
   "source": [
    "df_3_bedrooms=pd.DataFrame(df1.loc[df1[\"bedrooms\"]==3,\"overall_satisfaction\"])\n",
    "df_3_bedrooms[\"overall_satisfaction\"].value_counts()"
   ]
  },
  {
   "cell_type": "code",
   "execution_count": 23,
   "metadata": {},
   "outputs": [
    {
     "data": {
      "text/plain": [
       "<AxesSubplot:xlabel='overall_satisfaction', ylabel='count'>"
      ]
     },
     "execution_count": 23,
     "metadata": {},
     "output_type": "execute_result"
    },
    {
     "data": {
      "image/png": "[encoded data removed]",
      "text/plain": [
       "<Figure size 432x288 with 1 Axes>"
      ]
     },
     "metadata": {
      "needs_background": "light"
     },
     "output_type": "display_data"
    }
   ],
   "source": [
    "sns.countplot(data=df_3_bedrooms,x=\"overall_satisfaction\")\n"
   ]
  },
  {
   "cell_type": "markdown",
   "metadata": {},
   "source": [
    "* 2 bedrooms rating"
   ]
  },
  {
   "cell_type": "code",
   "execution_count": 24,
   "metadata": {},
   "outputs": [
    {
     "data": {
      "text/plain": [
       "5.0    1787\n",
       "0.0    1487\n",
       "4.5    1033\n",
       "4.0     127\n",
       "3.5      16\n",
       "3.0       6\n",
       "Name: overall_satisfaction, dtype: int64"
      ]
     },
     "execution_count": 24,
     "metadata": {},
     "output_type": "execute_result"
    }
   ],
   "source": [
    "df_2_bedrooms=pd.DataFrame(df1.loc[df1[\"bedrooms\"]==2,\"overall_satisfaction\"])\n",
    "df_2_bedrooms[\"overall_satisfaction\"].value_counts()"
   ]
  },
  {
   "cell_type": "code",
   "execution_count": 25,
   "metadata": {},
   "outputs": [
    {
     "data": {
      "text/plain": [
       "<AxesSubplot:xlabel='overall_satisfaction', ylabel='count'>"
      ]
     },
     "execution_count": 25,
     "metadata": {},
     "output_type": "execute_result"
    },
    {
     "data": {
      "image/png": "[encoded data removed]",
      "text/plain": [
       "<Figure size 432x288 with 1 Axes>"
      ]
     },
     "metadata": {
      "needs_background": "light"
     },
     "output_type": "display_data"
    }
   ],
   "source": [
    "sns.countplot(data=df_2_bedrooms,x=\"overall_satisfaction\")"
   ]
  },
  {
   "cell_type": "markdown",
   "metadata": {},
   "source": [
    "* Rating whenever the price between 150 and 180"
   ]
  },
  {
   "cell_type": "code",
   "execution_count": 26,
   "metadata": {},
   "outputs": [
    {
     "data": {
      "text/plain": [
       "5.0    954\n",
       "0.0    639\n",
       "4.5    514\n",
       "4.0     67\n",
       "3.5      8\n",
       "3.0      2\n",
       "Name: overall_satisfaction, dtype: int64"
      ]
     },
     "execution_count": 26,
     "metadata": {},
     "output_type": "execute_result"
    }
   ],
   "source": [
    "df_150=df1[df1[\"price\"]>150]\n",
    "df_150_180=df_150[df_150[\"price\"]<180]\n",
    "df_150_180[\"overall_satisfaction\"].value_counts()"
   ]
  },
  {
   "cell_type": "markdown",
   "metadata": {},
   "source": [
    "* Assumig that zero rating is an account for no rating and replace the 0 with the common rating \"4\""
   ]
  },
  {
   "cell_type": "code",
   "execution_count": 27,
   "metadata": {},
   "outputs": [
    {
     "data": {
      "text/html": [
       "<div>\n",
       "<style scoped>\n",
       "    .dataframe tbody tr th:only-of-type {\n",
       "        vertical-align: middle;\n",
       "    }\n",
       "\n",
       "    .dataframe tbody tr th {\n",
       "        vertical-align: top;\n",
       "    }\n",
       "\n",
       "    .dataframe thead th {\n",
       "        text-align: right;\n",
       "    }\n",
       "</style>\n",
       "<table border=\"1\" class=\"dataframe\">\n",
       "  <thead>\n",
       "    <tr style=\"text-align: right;\">\n",
       "      <th></th>\n",
       "      <th>room_id</th>\n",
       "      <th>survey_id</th>\n",
       "      <th>host_id</th>\n",
       "      <th>room_type</th>\n",
       "      <th>country</th>\n",
       "      <th>city</th>\n",
       "      <th>borough</th>\n",
       "      <th>neighborhood</th>\n",
       "      <th>reviews</th>\n",
       "      <th>overall_satisfaction</th>\n",
       "      <th>accommodates</th>\n",
       "      <th>bedrooms</th>\n",
       "      <th>bathrooms</th>\n",
       "      <th>price</th>\n",
       "      <th>minstay</th>\n",
       "      <th>name</th>\n",
       "      <th>last_modified</th>\n",
       "      <th>latitude</th>\n",
       "      <th>longitude</th>\n",
       "      <th>location</th>\n",
       "    </tr>\n",
       "  </thead>\n",
       "  <tbody>\n",
       "    <tr>\n",
       "      <th>33</th>\n",
       "      <td>10201214</td>\n",
       "      <td>1476</td>\n",
       "      <td>8497487</td>\n",
       "      <td>Entire home/apt</td>\n",
       "      <td>NaN</td>\n",
       "      <td>Amsterdam</td>\n",
       "      <td>NaN</td>\n",
       "      <td>Ijburg / Eiland Zeeburg</td>\n",
       "      <td>19</td>\n",
       "      <td>5.0</td>\n",
       "      <td>8</td>\n",
       "      <td>4.0</td>\n",
       "      <td>NaN</td>\n",
       "      <td>763.0</td>\n",
       "      <td>NaN</td>\n",
       "      <td>Beautiful Watervilla in Amsterdam</td>\n",
       "      <td>2017-07-23 13:02:10.468528</td>\n",
       "      <td>52.348254</td>\n",
       "      <td>5.001477</td>\n",
       "      <td>0101000020E6100000E7C8CA2F83011440C0594A96932C...</td>\n",
       "    </tr>\n",
       "    <tr>\n",
       "      <th>34</th>\n",
       "      <td>4</td>\n",
       "      <td>4</td>\n",
       "      <td>4</td>\n",
       "      <td>4</td>\n",
       "      <td>4.0</td>\n",
       "      <td>4</td>\n",
       "      <td>4.0</td>\n",
       "      <td>4</td>\n",
       "      <td>4</td>\n",
       "      <td>4.0</td>\n",
       "      <td>4</td>\n",
       "      <td>4.0</td>\n",
       "      <td>4.0</td>\n",
       "      <td>4.0</td>\n",
       "      <td>4.0</td>\n",
       "      <td>4</td>\n",
       "      <td>4</td>\n",
       "      <td>4.000000</td>\n",
       "      <td>4.000000</td>\n",
       "      <td>4</td>\n",
       "    </tr>\n",
       "    <tr>\n",
       "      <th>35</th>\n",
       "      <td>5372074</td>\n",
       "      <td>1476</td>\n",
       "      <td>14390964</td>\n",
       "      <td>Entire home/apt</td>\n",
       "      <td>NaN</td>\n",
       "      <td>Amsterdam</td>\n",
       "      <td>NaN</td>\n",
       "      <td>Centrum West</td>\n",
       "      <td>10</td>\n",
       "      <td>5.0</td>\n",
       "      <td>4</td>\n",
       "      <td>3.0</td>\n",
       "      <td>NaN</td>\n",
       "      <td>721.0</td>\n",
       "      <td>NaN</td>\n",
       "      <td>Prinsengracht Appartement</td>\n",
       "      <td>2017-07-23 12:52:40.980471</td>\n",
       "      <td>52.373078</td>\n",
       "      <td>4.884269</td>\n",
       "      <td>0101000020E61000006C770FD07D891340B56D1805C12F...</td>\n",
       "    </tr>\n",
       "    <tr>\n",
       "      <th>36</th>\n",
       "      <td>4</td>\n",
       "      <td>4</td>\n",
       "      <td>4</td>\n",
       "      <td>4</td>\n",
       "      <td>4.0</td>\n",
       "      <td>4</td>\n",
       "      <td>4.0</td>\n",
       "      <td>4</td>\n",
       "      <td>4</td>\n",
       "      <td>4.0</td>\n",
       "      <td>4</td>\n",
       "      <td>4.0</td>\n",
       "      <td>4.0</td>\n",
       "      <td>4.0</td>\n",
       "      <td>4.0</td>\n",
       "      <td>4</td>\n",
       "      <td>4</td>\n",
       "      <td>4.000000</td>\n",
       "      <td>4.000000</td>\n",
       "      <td>4</td>\n",
       "    </tr>\n",
       "    <tr>\n",
       "      <th>37</th>\n",
       "      <td>4</td>\n",
       "      <td>4</td>\n",
       "      <td>4</td>\n",
       "      <td>4</td>\n",
       "      <td>4.0</td>\n",
       "      <td>4</td>\n",
       "      <td>4.0</td>\n",
       "      <td>4</td>\n",
       "      <td>4</td>\n",
       "      <td>4.0</td>\n",
       "      <td>4</td>\n",
       "      <td>4.0</td>\n",
       "      <td>4.0</td>\n",
       "      <td>4.0</td>\n",
       "      <td>4.0</td>\n",
       "      <td>4</td>\n",
       "      <td>4</td>\n",
       "      <td>4.000000</td>\n",
       "      <td>4.000000</td>\n",
       "      <td>4</td>\n",
       "    </tr>\n",
       "    <tr>\n",
       "      <th>...</th>\n",
       "      <td>...</td>\n",
       "      <td>...</td>\n",
       "      <td>...</td>\n",
       "      <td>...</td>\n",
       "      <td>...</td>\n",
       "      <td>...</td>\n",
       "      <td>...</td>\n",
       "      <td>...</td>\n",
       "      <td>...</td>\n",
       "      <td>...</td>\n",
       "      <td>...</td>\n",
       "      <td>...</td>\n",
       "      <td>...</td>\n",
       "      <td>...</td>\n",
       "      <td>...</td>\n",
       "      <td>...</td>\n",
       "      <td>...</td>\n",
       "      <td>...</td>\n",
       "      <td>...</td>\n",
       "      <td>...</td>\n",
       "    </tr>\n",
       "    <tr>\n",
       "      <th>18718</th>\n",
       "      <td>17789893</td>\n",
       "      <td>1476</td>\n",
       "      <td>47501089</td>\n",
       "      <td>Private room</td>\n",
       "      <td>NaN</td>\n",
       "      <td>Amsterdam</td>\n",
       "      <td>NaN</td>\n",
       "      <td>Bijlmer Centrum</td>\n",
       "      <td>10</td>\n",
       "      <td>5.0</td>\n",
       "      <td>3</td>\n",
       "      <td>1.0</td>\n",
       "      <td>NaN</td>\n",
       "      <td>32.0</td>\n",
       "      <td>NaN</td>\n",
       "      <td>1-3 pers. Cozy Rm AFAS Live, ArenA, ZIGGODOME</td>\n",
       "      <td>2017-07-22 16:05:14.158963</td>\n",
       "      <td>52.319794</td>\n",
       "      <td>4.955638</td>\n",
       "      <td>0101000020E6100000684293C492D2134080BA8102EF28...</td>\n",
       "    </tr>\n",
       "    <tr>\n",
       "      <th>18719</th>\n",
       "      <td>16877166</td>\n",
       "      <td>1476</td>\n",
       "      <td>67093870</td>\n",
       "      <td>Private room</td>\n",
       "      <td>NaN</td>\n",
       "      <td>Amsterdam</td>\n",
       "      <td>NaN</td>\n",
       "      <td>Bijlmer Centrum</td>\n",
       "      <td>6</td>\n",
       "      <td>5.0</td>\n",
       "      <td>4</td>\n",
       "      <td>1.0</td>\n",
       "      <td>NaN</td>\n",
       "      <td>24.0</td>\n",
       "      <td>NaN</td>\n",
       "      <td>Modern Room by Arena, ZIGGO, HmH</td>\n",
       "      <td>2017-07-22 16:05:14.151986</td>\n",
       "      <td>52.319080</td>\n",
       "      <td>4.954822</td>\n",
       "      <td>0101000020E61000005801BEDBBCD1134062670A9DD728...</td>\n",
       "    </tr>\n",
       "    <tr>\n",
       "      <th>18720</th>\n",
       "      <td>4</td>\n",
       "      <td>4</td>\n",
       "      <td>4</td>\n",
       "      <td>4</td>\n",
       "      <td>4.0</td>\n",
       "      <td>4</td>\n",
       "      <td>4.0</td>\n",
       "      <td>4</td>\n",
       "      <td>4</td>\n",
       "      <td>4.0</td>\n",
       "      <td>4</td>\n",
       "      <td>4.0</td>\n",
       "      <td>4.0</td>\n",
       "      <td>4.0</td>\n",
       "      <td>4.0</td>\n",
       "      <td>4</td>\n",
       "      <td>4</td>\n",
       "      <td>4.000000</td>\n",
       "      <td>4.000000</td>\n",
       "      <td>4</td>\n",
       "    </tr>\n",
       "    <tr>\n",
       "      <th>18721</th>\n",
       "      <td>17132164</td>\n",
       "      <td>1476</td>\n",
       "      <td>115156569</td>\n",
       "      <td>Private room</td>\n",
       "      <td>NaN</td>\n",
       "      <td>Amsterdam</td>\n",
       "      <td>NaN</td>\n",
       "      <td>Centrum West</td>\n",
       "      <td>13</td>\n",
       "      <td>4.5</td>\n",
       "      <td>2</td>\n",
       "      <td>1.0</td>\n",
       "      <td>NaN</td>\n",
       "      <td>36.0</td>\n",
       "      <td>NaN</td>\n",
       "      <td>City Center studio in Touristic Amsterdam 1</td>\n",
       "      <td>2017-07-22 16:05:14.146183</td>\n",
       "      <td>52.372120</td>\n",
       "      <td>4.890982</td>\n",
       "      <td>0101000020E6100000774CDD955D9013400118CFA0A12F...</td>\n",
       "    </tr>\n",
       "    <tr>\n",
       "      <th>18722</th>\n",
       "      <td>7605782</td>\n",
       "      <td>1476</td>\n",
       "      <td>39503013</td>\n",
       "      <td>Private room</td>\n",
       "      <td>NaN</td>\n",
       "      <td>Amsterdam</td>\n",
       "      <td>NaN</td>\n",
       "      <td>Centrum West</td>\n",
       "      <td>113</td>\n",
       "      <td>4.5</td>\n",
       "      <td>2</td>\n",
       "      <td>1.0</td>\n",
       "      <td>NaN</td>\n",
       "      <td>35.0</td>\n",
       "      <td>NaN</td>\n",
       "      <td>I have a room available for rent</td>\n",
       "      <td>2017-07-22 16:05:12.257054</td>\n",
       "      <td>52.381392</td>\n",
       "      <td>4.899658</td>\n",
       "      <td>0101000020E6100000CD565EF23F9913405F7AFB73D130...</td>\n",
       "    </tr>\n",
       "  </tbody>\n",
       "</table>\n",
       "<p>18660 rows × 20 columns</p>\n",
       "</div>"
      ],
      "text/plain": [
       "        room_id  survey_id    host_id        room_type  country       city  \\\n",
       "33     10201214       1476    8497487  Entire home/apt      NaN  Amsterdam   \n",
       "34            4          4          4                4      4.0          4   \n",
       "35      5372074       1476   14390964  Entire home/apt      NaN  Amsterdam   \n",
       "36            4          4          4                4      4.0          4   \n",
       "37            4          4          4                4      4.0          4   \n",
       "...         ...        ...        ...              ...      ...        ...   \n",
       "18718  17789893       1476   47501089     Private room      NaN  Amsterdam   \n",
       "18719  16877166       1476   67093870     Private room      NaN  Amsterdam   \n",
       "18720         4          4          4                4      4.0          4   \n",
       "18721  17132164       1476  115156569     Private room      NaN  Amsterdam   \n",
       "18722   7605782       1476   39503013     Private room      NaN  Amsterdam   \n",
       "\n",
       "       borough             neighborhood  reviews  overall_satisfaction  \\\n",
       "33         NaN  Ijburg / Eiland Zeeburg       19                   5.0   \n",
       "34         4.0                        4        4                   4.0   \n",
       "35         NaN             Centrum West       10                   5.0   \n",
       "36         4.0                        4        4                   4.0   \n",
       "37         4.0                        4        4                   4.0   \n",
       "...        ...                      ...      ...                   ...   \n",
       "18718      NaN          Bijlmer Centrum       10                   5.0   \n",
       "18719      NaN          Bijlmer Centrum        6                   5.0   \n",
       "18720      4.0                        4        4                   4.0   \n",
       "18721      NaN             Centrum West       13                   4.5   \n",
       "18722      NaN             Centrum West      113                   4.5   \n",
       "\n",
       "       accommodates  bedrooms  bathrooms  price  minstay  \\\n",
       "33                8       4.0        NaN  763.0      NaN   \n",
       "34                4       4.0        4.0    4.0      4.0   \n",
       "35                4       3.0        NaN  721.0      NaN   \n",
       "36                4       4.0        4.0    4.0      4.0   \n",
       "37                4       4.0        4.0    4.0      4.0   \n",
       "...             ...       ...        ...    ...      ...   \n",
       "18718             3       1.0        NaN   32.0      NaN   \n",
       "18719             4       1.0        NaN   24.0      NaN   \n",
       "18720             4       4.0        4.0    4.0      4.0   \n",
       "18721             2       1.0        NaN   36.0      NaN   \n",
       "18722             2       1.0        NaN   35.0      NaN   \n",
       "\n",
       "                                                name  \\\n",
       "33                 Beautiful Watervilla in Amsterdam   \n",
       "34                                                 4   \n",
       "35                         Prinsengracht Appartement   \n",
       "36                                                 4   \n",
       "37                                                 4   \n",
       "...                                              ...   \n",
       "18718  1-3 pers. Cozy Rm AFAS Live, ArenA, ZIGGODOME   \n",
       "18719               Modern Room by Arena, ZIGGO, HmH   \n",
       "18720                                              4   \n",
       "18721    City Center studio in Touristic Amsterdam 1   \n",
       "18722               I have a room available for rent   \n",
       "\n",
       "                    last_modified   latitude  longitude  \\\n",
       "33     2017-07-23 13:02:10.468528  52.348254   5.001477   \n",
       "34                              4   4.000000   4.000000   \n",
       "35     2017-07-23 12:52:40.980471  52.373078   4.884269   \n",
       "36                              4   4.000000   4.000000   \n",
       "37                              4   4.000000   4.000000   \n",
       "...                           ...        ...        ...   \n",
       "18718  2017-07-22 16:05:14.158963  52.319794   4.955638   \n",
       "18719  2017-07-22 16:05:14.151986  52.319080   4.954822   \n",
       "18720                           4   4.000000   4.000000   \n",
       "18721  2017-07-22 16:05:14.146183  52.372120   4.890982   \n",
       "18722  2017-07-22 16:05:12.257054  52.381392   4.899658   \n",
       "\n",
       "                                                location  \n",
       "33     0101000020E6100000E7C8CA2F83011440C0594A96932C...  \n",
       "34                                                     4  \n",
       "35     0101000020E61000006C770FD07D891340B56D1805C12F...  \n",
       "36                                                     4  \n",
       "37                                                     4  \n",
       "...                                                  ...  \n",
       "18718  0101000020E6100000684293C492D2134080BA8102EF28...  \n",
       "18719  0101000020E61000005801BEDBBCD1134062670A9DD728...  \n",
       "18720                                                  4  \n",
       "18721  0101000020E6100000774CDD955D9013400118CFA0A12F...  \n",
       "18722  0101000020E6100000CD565EF23F9913405F7AFB73D130...  \n",
       "\n",
       "[18660 rows x 20 columns]"
      ]
     },
     "execution_count": 27,
     "metadata": {},
     "output_type": "execute_result"
    }
   ],
   "source": [
    "df_imputated=df1.copy()\n",
    "df_imputated.loc[df[\"overall_satisfaction\"]==0]=4\n",
    "df_imputated"
   ]
  },
  {
   "cell_type": "code",
   "execution_count": 28,
   "metadata": {},
   "outputs": [
    {
     "data": {
      "text/plain": [
       "5.0    7697\n",
       "4.0    6294\n",
       "4.5    4543\n",
       "3.5     105\n",
       "3.0      19\n",
       "2.5       1\n",
       "1.0       1\n",
       "Name: overall_satisfaction, dtype: int64"
      ]
     },
     "execution_count": 28,
     "metadata": {},
     "output_type": "execute_result"
    }
   ],
   "source": [
    "df_imputated[\"overall_satisfaction\"].value_counts()"
   ]
  },
  {
   "cell_type": "code",
   "execution_count": 29,
   "metadata": {},
   "outputs": [
    {
     "data": {
      "image/png": "[encoded data removed]",
      "text/plain": [
       "<Figure size 720x720 with 1 Axes>"
      ]
     },
     "metadata": {},
     "output_type": "display_data"
    }
   ],
   "source": [
    "fig,ax=plt.subplots(figsize=(10,10))\n",
    "explode = [0,0,0,0.2,0,0,0]\n",
    "ax=plt.pie(df_imputated[\"overall_satisfaction\"].value_counts(),labels=df_imputated[\"overall_satisfaction\"].unique(),startangle=90,autopct=\"%1.1f%%\"\n",
    ",explode=explode)"
   ]
  },
  {
   "cell_type": "markdown",
   "metadata": {},
   "source": [
    "* Accomodation availability"
   ]
  },
  {
   "cell_type": "code",
   "execution_count": 30,
   "metadata": {},
   "outputs": [
    {
     "data": {
      "text/plain": [
       "2     9996\n",
       "4     5563\n",
       "3     1583\n",
       "6      475\n",
       "5      470\n",
       "1      355\n",
       "8      105\n",
       "7       52\n",
       "16      18\n",
       "10      16\n",
       "12       9\n",
       "9        8\n",
       "14       6\n",
       "11       2\n",
       "13       1\n",
       "17       1\n",
       "Name: accommodates, dtype: int64"
      ]
     },
     "execution_count": 30,
     "metadata": {},
     "output_type": "execute_result"
    }
   ],
   "source": [
    "df1[\"accommodates\"].value_counts()"
   ]
  },
  {
   "cell_type": "code",
   "execution_count": 31,
   "metadata": {},
   "outputs": [
    {
     "data": {
      "image/png": "[encoded data removed]",
      "text/plain": [
       "<Figure size 432x288 with 1 Axes>"
      ]
     },
     "metadata": {
      "needs_background": "light"
     },
     "output_type": "display_data"
    }
   ],
   "source": [
    "\n",
    "plt.hist(df1[\"accommodates\"])\n",
    "plt.title(\"count of each accomodation value to understand where is the most availability\")\n",
    "plt.xlabel(\"Accommodates\")\n",
    "plt.show()"
   ]
  },
  {
   "cell_type": "markdown",
   "metadata": {},
   "source": [
    "* Most Common Price"
   ]
  },
  {
   "cell_type": "code",
   "execution_count": 32,
   "metadata": {},
   "outputs": [
    {
     "data": {
      "text/plain": [
       "119.0    1023\n",
       "180.0     999\n",
       "144.0     886\n",
       "150.0     621\n",
       "132.0     587\n",
       "Name: price, dtype: int64"
      ]
     },
     "execution_count": 32,
     "metadata": {},
     "output_type": "execute_result"
    }
   ],
   "source": [
    "df1[\"price\"].value_counts().head()"
   ]
  },
  {
   "cell_type": "markdown",
   "metadata": {},
   "source": [
    "* Numbers and propotions of bedrooms"
   ]
  },
  {
   "cell_type": "code",
   "execution_count": 33,
   "metadata": {},
   "outputs": [
    {
     "data": {
      "text/html": [
       "<div>\n",
       "<style scoped>\n",
       "    .dataframe tbody tr th:only-of-type {\n",
       "        vertical-align: middle;\n",
       "    }\n",
       "\n",
       "    .dataframe tbody tr th {\n",
       "        vertical-align: top;\n",
       "    }\n",
       "\n",
       "    .dataframe thead th {\n",
       "        text-align: right;\n",
       "    }\n",
       "</style>\n",
       "<table border=\"1\" class=\"dataframe\">\n",
       "  <thead>\n",
       "    <tr style=\"text-align: right;\">\n",
       "      <th>col_0</th>\n",
       "      <th>counts</th>\n",
       "    </tr>\n",
       "    <tr>\n",
       "      <th>bedrooms</th>\n",
       "      <th></th>\n",
       "    </tr>\n",
       "  </thead>\n",
       "  <tbody>\n",
       "    <tr>\n",
       "      <th>0.0</th>\n",
       "      <td>0.061844</td>\n",
       "    </tr>\n",
       "    <tr>\n",
       "      <th>1.0</th>\n",
       "      <td>0.591533</td>\n",
       "    </tr>\n",
       "    <tr>\n",
       "      <th>2.0</th>\n",
       "      <td>0.238800</td>\n",
       "    </tr>\n",
       "    <tr>\n",
       "      <th>3.0</th>\n",
       "      <td>0.077385</td>\n",
       "    </tr>\n",
       "    <tr>\n",
       "      <th>4.0</th>\n",
       "      <td>0.025348</td>\n",
       "    </tr>\n",
       "    <tr>\n",
       "      <th>5.0</th>\n",
       "      <td>0.003323</td>\n",
       "    </tr>\n",
       "    <tr>\n",
       "      <th>6.0</th>\n",
       "      <td>0.001018</td>\n",
       "    </tr>\n",
       "    <tr>\n",
       "      <th>7.0</th>\n",
       "      <td>0.000214</td>\n",
       "    </tr>\n",
       "    <tr>\n",
       "      <th>8.0</th>\n",
       "      <td>0.000161</td>\n",
       "    </tr>\n",
       "    <tr>\n",
       "      <th>9.0</th>\n",
       "      <td>0.000107</td>\n",
       "    </tr>\n",
       "    <tr>\n",
       "      <th>10.0</th>\n",
       "      <td>0.000268</td>\n",
       "    </tr>\n",
       "  </tbody>\n",
       "</table>\n",
       "</div>"
      ],
      "text/plain": [
       "col_0       counts\n",
       "bedrooms          \n",
       "0.0       0.061844\n",
       "1.0       0.591533\n",
       "2.0       0.238800\n",
       "3.0       0.077385\n",
       "4.0       0.025348\n",
       "5.0       0.003323\n",
       "6.0       0.001018\n",
       "7.0       0.000214\n",
       "8.0       0.000161\n",
       "9.0       0.000107\n",
       "10.0      0.000268"
      ]
     },
     "execution_count": 33,
     "metadata": {},
     "output_type": "execute_result"
    }
   ],
   "source": [
    "bedrooms=pd.crosstab(df1[\"bedrooms\"],columns=\"counts\",normalize=True)\n",
    "bedrooms"
   ]
  },
  {
   "cell_type": "markdown",
   "metadata": {},
   "source": [
    "* Dropping properties with 0 bedrooms"
   ]
  },
  {
   "cell_type": "code",
   "execution_count": 34,
   "metadata": {},
   "outputs": [
    {
     "data": {
      "text/html": [
       "<div>\n",
       "<style scoped>\n",
       "    .dataframe tbody tr th:only-of-type {\n",
       "        vertical-align: middle;\n",
       "    }\n",
       "\n",
       "    .dataframe tbody tr th {\n",
       "        vertical-align: top;\n",
       "    }\n",
       "\n",
       "    .dataframe thead th {\n",
       "        text-align: right;\n",
       "    }\n",
       "</style>\n",
       "<table border=\"1\" class=\"dataframe\">\n",
       "  <thead>\n",
       "    <tr style=\"text-align: right;\">\n",
       "      <th></th>\n",
       "      <th>room_id</th>\n",
       "      <th>survey_id</th>\n",
       "      <th>host_id</th>\n",
       "      <th>room_type</th>\n",
       "      <th>country</th>\n",
       "      <th>city</th>\n",
       "      <th>borough</th>\n",
       "      <th>neighborhood</th>\n",
       "      <th>reviews</th>\n",
       "      <th>overall_satisfaction</th>\n",
       "      <th>accommodates</th>\n",
       "      <th>bedrooms</th>\n",
       "      <th>bathrooms</th>\n",
       "      <th>price</th>\n",
       "      <th>minstay</th>\n",
       "      <th>name</th>\n",
       "      <th>last_modified</th>\n",
       "      <th>latitude</th>\n",
       "      <th>longitude</th>\n",
       "      <th>location</th>\n",
       "    </tr>\n",
       "  </thead>\n",
       "  <tbody>\n",
       "    <tr>\n",
       "      <th>33</th>\n",
       "      <td>10201214</td>\n",
       "      <td>1476</td>\n",
       "      <td>8497487</td>\n",
       "      <td>Entire home/apt</td>\n",
       "      <td>NaN</td>\n",
       "      <td>Amsterdam</td>\n",
       "      <td>NaN</td>\n",
       "      <td>Ijburg / Eiland Zeeburg</td>\n",
       "      <td>19</td>\n",
       "      <td>5.0</td>\n",
       "      <td>8</td>\n",
       "      <td>4.0</td>\n",
       "      <td>NaN</td>\n",
       "      <td>763.0</td>\n",
       "      <td>NaN</td>\n",
       "      <td>Beautiful Watervilla in Amsterdam</td>\n",
       "      <td>2017-07-23 13:02:10.468528</td>\n",
       "      <td>52.348254</td>\n",
       "      <td>5.001477</td>\n",
       "      <td>0101000020E6100000E7C8CA2F83011440C0594A96932C...</td>\n",
       "    </tr>\n",
       "    <tr>\n",
       "      <th>34</th>\n",
       "      <td>3119298</td>\n",
       "      <td>1476</td>\n",
       "      <td>15847782</td>\n",
       "      <td>Entire home/apt</td>\n",
       "      <td>NaN</td>\n",
       "      <td>Amsterdam</td>\n",
       "      <td>NaN</td>\n",
       "      <td>Westerpark</td>\n",
       "      <td>1</td>\n",
       "      <td>0.0</td>\n",
       "      <td>8</td>\n",
       "      <td>3.0</td>\n",
       "      <td>NaN</td>\n",
       "      <td>445.0</td>\n",
       "      <td>NaN</td>\n",
       "      <td>Modern 5-8 person apartment</td>\n",
       "      <td>2017-07-23 12:58:15.945759</td>\n",
       "      <td>52.377581</td>\n",
       "      <td>4.873119</td>\n",
       "      <td>0101000020E61000009D103AE8127E1340A54BFF925430...</td>\n",
       "    </tr>\n",
       "    <tr>\n",
       "      <th>35</th>\n",
       "      <td>5372074</td>\n",
       "      <td>1476</td>\n",
       "      <td>14390964</td>\n",
       "      <td>Entire home/apt</td>\n",
       "      <td>NaN</td>\n",
       "      <td>Amsterdam</td>\n",
       "      <td>NaN</td>\n",
       "      <td>Centrum West</td>\n",
       "      <td>10</td>\n",
       "      <td>5.0</td>\n",
       "      <td>4</td>\n",
       "      <td>3.0</td>\n",
       "      <td>NaN</td>\n",
       "      <td>721.0</td>\n",
       "      <td>NaN</td>\n",
       "      <td>Prinsengracht Appartement</td>\n",
       "      <td>2017-07-23 12:52:40.980471</td>\n",
       "      <td>52.373078</td>\n",
       "      <td>4.884269</td>\n",
       "      <td>0101000020E61000006C770FD07D891340B56D1805C12F...</td>\n",
       "    </tr>\n",
       "    <tr>\n",
       "      <th>36</th>\n",
       "      <td>10511291</td>\n",
       "      <td>1476</td>\n",
       "      <td>5421078</td>\n",
       "      <td>Entire home/apt</td>\n",
       "      <td>NaN</td>\n",
       "      <td>Amsterdam</td>\n",
       "      <td>NaN</td>\n",
       "      <td>Watergraafsmeer</td>\n",
       "      <td>1</td>\n",
       "      <td>0.0</td>\n",
       "      <td>8</td>\n",
       "      <td>3.0</td>\n",
       "      <td>NaN</td>\n",
       "      <td>1412.0</td>\n",
       "      <td>NaN</td>\n",
       "      <td>Whole house 200m2 Frankendael Park</td>\n",
       "      <td>2017-07-23 12:30:42.249974</td>\n",
       "      <td>52.350968</td>\n",
       "      <td>4.929821</td>\n",
       "      <td>0101000020E61000003B8908FF22B81340A5F8F884EC2C...</td>\n",
       "    </tr>\n",
       "    <tr>\n",
       "      <th>37</th>\n",
       "      <td>18047871</td>\n",
       "      <td>1476</td>\n",
       "      <td>9302267</td>\n",
       "      <td>Entire home/apt</td>\n",
       "      <td>NaN</td>\n",
       "      <td>Amsterdam</td>\n",
       "      <td>NaN</td>\n",
       "      <td>Centrum West</td>\n",
       "      <td>0</td>\n",
       "      <td>0.0</td>\n",
       "      <td>4</td>\n",
       "      <td>4.0</td>\n",
       "      <td>NaN</td>\n",
       "      <td>541.0</td>\n",
       "      <td>NaN</td>\n",
       "      <td>Great 4 bedroom apartment at the flower market</td>\n",
       "      <td>2017-07-23 12:30:27.637777</td>\n",
       "      <td>52.367890</td>\n",
       "      <td>4.889273</td>\n",
       "      <td>0101000020E6100000FDDCD0949D8E13404243FF04172F...</td>\n",
       "    </tr>\n",
       "    <tr>\n",
       "      <th>...</th>\n",
       "      <td>...</td>\n",
       "      <td>...</td>\n",
       "      <td>...</td>\n",
       "      <td>...</td>\n",
       "      <td>...</td>\n",
       "      <td>...</td>\n",
       "      <td>...</td>\n",
       "      <td>...</td>\n",
       "      <td>...</td>\n",
       "      <td>...</td>\n",
       "      <td>...</td>\n",
       "      <td>...</td>\n",
       "      <td>...</td>\n",
       "      <td>...</td>\n",
       "      <td>...</td>\n",
       "      <td>...</td>\n",
       "      <td>...</td>\n",
       "      <td>...</td>\n",
       "      <td>...</td>\n",
       "      <td>...</td>\n",
       "    </tr>\n",
       "    <tr>\n",
       "      <th>18718</th>\n",
       "      <td>17789893</td>\n",
       "      <td>1476</td>\n",
       "      <td>47501089</td>\n",
       "      <td>Private room</td>\n",
       "      <td>NaN</td>\n",
       "      <td>Amsterdam</td>\n",
       "      <td>NaN</td>\n",
       "      <td>Bijlmer Centrum</td>\n",
       "      <td>10</td>\n",
       "      <td>5.0</td>\n",
       "      <td>3</td>\n",
       "      <td>1.0</td>\n",
       "      <td>NaN</td>\n",
       "      <td>32.0</td>\n",
       "      <td>NaN</td>\n",
       "      <td>1-3 pers. Cozy Rm AFAS Live, ArenA, ZIGGODOME</td>\n",
       "      <td>2017-07-22 16:05:14.158963</td>\n",
       "      <td>52.319794</td>\n",
       "      <td>4.955638</td>\n",
       "      <td>0101000020E6100000684293C492D2134080BA8102EF28...</td>\n",
       "    </tr>\n",
       "    <tr>\n",
       "      <th>18719</th>\n",
       "      <td>16877166</td>\n",
       "      <td>1476</td>\n",
       "      <td>67093870</td>\n",
       "      <td>Private room</td>\n",
       "      <td>NaN</td>\n",
       "      <td>Amsterdam</td>\n",
       "      <td>NaN</td>\n",
       "      <td>Bijlmer Centrum</td>\n",
       "      <td>6</td>\n",
       "      <td>5.0</td>\n",
       "      <td>4</td>\n",
       "      <td>1.0</td>\n",
       "      <td>NaN</td>\n",
       "      <td>24.0</td>\n",
       "      <td>NaN</td>\n",
       "      <td>Modern Room by Arena, ZIGGO, HmH</td>\n",
       "      <td>2017-07-22 16:05:14.151986</td>\n",
       "      <td>52.319080</td>\n",
       "      <td>4.954822</td>\n",
       "      <td>0101000020E61000005801BEDBBCD1134062670A9DD728...</td>\n",
       "    </tr>\n",
       "    <tr>\n",
       "      <th>18720</th>\n",
       "      <td>19859427</td>\n",
       "      <td>1476</td>\n",
       "      <td>29724632</td>\n",
       "      <td>Private room</td>\n",
       "      <td>NaN</td>\n",
       "      <td>Amsterdam</td>\n",
       "      <td>NaN</td>\n",
       "      <td>Geuzenveld / Slotermeer</td>\n",
       "      <td>0</td>\n",
       "      <td>0.0</td>\n",
       "      <td>1</td>\n",
       "      <td>1.0</td>\n",
       "      <td>NaN</td>\n",
       "      <td>38.0</td>\n",
       "      <td>NaN</td>\n",
       "      <td>Private single room</td>\n",
       "      <td>2017-07-22 16:05:14.149610</td>\n",
       "      <td>52.384028</td>\n",
       "      <td>4.838403</td>\n",
       "      <td>0101000020E61000002079E750865A1340C85F5AD42731...</td>\n",
       "    </tr>\n",
       "    <tr>\n",
       "      <th>18721</th>\n",
       "      <td>17132164</td>\n",
       "      <td>1476</td>\n",
       "      <td>115156569</td>\n",
       "      <td>Private room</td>\n",
       "      <td>NaN</td>\n",
       "      <td>Amsterdam</td>\n",
       "      <td>NaN</td>\n",
       "      <td>Centrum West</td>\n",
       "      <td>13</td>\n",
       "      <td>4.5</td>\n",
       "      <td>2</td>\n",
       "      <td>1.0</td>\n",
       "      <td>NaN</td>\n",
       "      <td>36.0</td>\n",
       "      <td>NaN</td>\n",
       "      <td>City Center studio in Touristic Amsterdam 1</td>\n",
       "      <td>2017-07-22 16:05:14.146183</td>\n",
       "      <td>52.372120</td>\n",
       "      <td>4.890982</td>\n",
       "      <td>0101000020E6100000774CDD955D9013400118CFA0A12F...</td>\n",
       "    </tr>\n",
       "    <tr>\n",
       "      <th>18722</th>\n",
       "      <td>7605782</td>\n",
       "      <td>1476</td>\n",
       "      <td>39503013</td>\n",
       "      <td>Private room</td>\n",
       "      <td>NaN</td>\n",
       "      <td>Amsterdam</td>\n",
       "      <td>NaN</td>\n",
       "      <td>Centrum West</td>\n",
       "      <td>113</td>\n",
       "      <td>4.5</td>\n",
       "      <td>2</td>\n",
       "      <td>1.0</td>\n",
       "      <td>NaN</td>\n",
       "      <td>35.0</td>\n",
       "      <td>NaN</td>\n",
       "      <td>I have a room available for rent</td>\n",
       "      <td>2017-07-22 16:05:12.257054</td>\n",
       "      <td>52.381392</td>\n",
       "      <td>4.899658</td>\n",
       "      <td>0101000020E6100000CD565EF23F9913405F7AFB73D130...</td>\n",
       "    </tr>\n",
       "  </tbody>\n",
       "</table>\n",
       "<p>17506 rows × 20 columns</p>\n",
       "</div>"
      ],
      "text/plain": [
       "        room_id  survey_id    host_id        room_type  country       city  \\\n",
       "33     10201214       1476    8497487  Entire home/apt      NaN  Amsterdam   \n",
       "34      3119298       1476   15847782  Entire home/apt      NaN  Amsterdam   \n",
       "35      5372074       1476   14390964  Entire home/apt      NaN  Amsterdam   \n",
       "36     10511291       1476    5421078  Entire home/apt      NaN  Amsterdam   \n",
       "37     18047871       1476    9302267  Entire home/apt      NaN  Amsterdam   \n",
       "...         ...        ...        ...              ...      ...        ...   \n",
       "18718  17789893       1476   47501089     Private room      NaN  Amsterdam   \n",
       "18719  16877166       1476   67093870     Private room      NaN  Amsterdam   \n",
       "18720  19859427       1476   29724632     Private room      NaN  Amsterdam   \n",
       "18721  17132164       1476  115156569     Private room      NaN  Amsterdam   \n",
       "18722   7605782       1476   39503013     Private room      NaN  Amsterdam   \n",
       "\n",
       "       borough             neighborhood  reviews  overall_satisfaction  \\\n",
       "33         NaN  Ijburg / Eiland Zeeburg       19                   5.0   \n",
       "34         NaN               Westerpark        1                   0.0   \n",
       "35         NaN             Centrum West       10                   5.0   \n",
       "36         NaN          Watergraafsmeer        1                   0.0   \n",
       "37         NaN             Centrum West        0                   0.0   \n",
       "...        ...                      ...      ...                   ...   \n",
       "18718      NaN          Bijlmer Centrum       10                   5.0   \n",
       "18719      NaN          Bijlmer Centrum        6                   5.0   \n",
       "18720      NaN  Geuzenveld / Slotermeer        0                   0.0   \n",
       "18721      NaN             Centrum West       13                   4.5   \n",
       "18722      NaN             Centrum West      113                   4.5   \n",
       "\n",
       "       accommodates  bedrooms  bathrooms   price  minstay  \\\n",
       "33                8       4.0        NaN   763.0      NaN   \n",
       "34                8       3.0        NaN   445.0      NaN   \n",
       "35                4       3.0        NaN   721.0      NaN   \n",
       "36                8       3.0        NaN  1412.0      NaN   \n",
       "37                4       4.0        NaN   541.0      NaN   \n",
       "...             ...       ...        ...     ...      ...   \n",
       "18718             3       1.0        NaN    32.0      NaN   \n",
       "18719             4       1.0        NaN    24.0      NaN   \n",
       "18720             1       1.0        NaN    38.0      NaN   \n",
       "18721             2       1.0        NaN    36.0      NaN   \n",
       "18722             2       1.0        NaN    35.0      NaN   \n",
       "\n",
       "                                                 name  \\\n",
       "33                  Beautiful Watervilla in Amsterdam   \n",
       "34                        Modern 5-8 person apartment   \n",
       "35                          Prinsengracht Appartement   \n",
       "36                 Whole house 200m2 Frankendael Park   \n",
       "37     Great 4 bedroom apartment at the flower market   \n",
       "...                                               ...   \n",
       "18718   1-3 pers. Cozy Rm AFAS Live, ArenA, ZIGGODOME   \n",
       "18719                Modern Room by Arena, ZIGGO, HmH   \n",
       "18720                             Private single room   \n",
       "18721     City Center studio in Touristic Amsterdam 1   \n",
       "18722                I have a room available for rent   \n",
       "\n",
       "                    last_modified   latitude  longitude  \\\n",
       "33     2017-07-23 13:02:10.468528  52.348254   5.001477   \n",
       "34     2017-07-23 12:58:15.945759  52.377581   4.873119   \n",
       "35     2017-07-23 12:52:40.980471  52.373078   4.884269   \n",
       "36     2017-07-23 12:30:42.249974  52.350968   4.929821   \n",
       "37     2017-07-23 12:30:27.637777  52.367890   4.889273   \n",
       "...                           ...        ...        ...   \n",
       "18718  2017-07-22 16:05:14.158963  52.319794   4.955638   \n",
       "18719  2017-07-22 16:05:14.151986  52.319080   4.954822   \n",
       "18720  2017-07-22 16:05:14.149610  52.384028   4.838403   \n",
       "18721  2017-07-22 16:05:14.146183  52.372120   4.890982   \n",
       "18722  2017-07-22 16:05:12.257054  52.381392   4.899658   \n",
       "\n",
       "                                                location  \n",
       "33     0101000020E6100000E7C8CA2F83011440C0594A96932C...  \n",
       "34     0101000020E61000009D103AE8127E1340A54BFF925430...  \n",
       "35     0101000020E61000006C770FD07D891340B56D1805C12F...  \n",
       "36     0101000020E61000003B8908FF22B81340A5F8F884EC2C...  \n",
       "37     0101000020E6100000FDDCD0949D8E13404243FF04172F...  \n",
       "...                                                  ...  \n",
       "18718  0101000020E6100000684293C492D2134080BA8102EF28...  \n",
       "18719  0101000020E61000005801BEDBBCD1134062670A9DD728...  \n",
       "18720  0101000020E61000002079E750865A1340C85F5AD42731...  \n",
       "18721  0101000020E6100000774CDD955D9013400118CFA0A12F...  \n",
       "18722  0101000020E6100000CD565EF23F9913405F7AFB73D130...  \n",
       "\n",
       "[17506 rows x 20 columns]"
      ]
     },
     "execution_count": 34,
     "metadata": {},
     "output_type": "execute_result"
    }
   ],
   "source": [
    "df_w_bedrooms=df1.loc[df1[\"bedrooms\"]!=0]\n",
    "df_w_bedrooms"
   ]
  },
  {
   "cell_type": "code",
   "execution_count": 35,
   "metadata": {},
   "outputs": [
    {
     "data": {
      "text/html": [
       "<div>\n",
       "<style scoped>\n",
       "    .dataframe tbody tr th:only-of-type {\n",
       "        vertical-align: middle;\n",
       "    }\n",
       "\n",
       "    .dataframe tbody tr th {\n",
       "        vertical-align: top;\n",
       "    }\n",
       "\n",
       "    .dataframe thead th {\n",
       "        text-align: right;\n",
       "    }\n",
       "</style>\n",
       "<table border=\"1\" class=\"dataframe\">\n",
       "  <thead>\n",
       "    <tr style=\"text-align: right;\">\n",
       "      <th>col_0</th>\n",
       "      <th>counts</th>\n",
       "    </tr>\n",
       "    <tr>\n",
       "      <th>bedrooms</th>\n",
       "      <th></th>\n",
       "    </tr>\n",
       "  </thead>\n",
       "  <tbody>\n",
       "    <tr>\n",
       "      <th>1.0</th>\n",
       "      <td>0.630527</td>\n",
       "    </tr>\n",
       "    <tr>\n",
       "      <th>2.0</th>\n",
       "      <td>0.254541</td>\n",
       "    </tr>\n",
       "    <tr>\n",
       "      <th>3.0</th>\n",
       "      <td>0.082486</td>\n",
       "    </tr>\n",
       "    <tr>\n",
       "      <th>4.0</th>\n",
       "      <td>0.027019</td>\n",
       "    </tr>\n",
       "    <tr>\n",
       "      <th>5.0</th>\n",
       "      <td>0.003542</td>\n",
       "    </tr>\n",
       "    <tr>\n",
       "      <th>6.0</th>\n",
       "      <td>0.001085</td>\n",
       "    </tr>\n",
       "    <tr>\n",
       "      <th>7.0</th>\n",
       "      <td>0.000228</td>\n",
       "    </tr>\n",
       "    <tr>\n",
       "      <th>8.0</th>\n",
       "      <td>0.000171</td>\n",
       "    </tr>\n",
       "    <tr>\n",
       "      <th>9.0</th>\n",
       "      <td>0.000114</td>\n",
       "    </tr>\n",
       "    <tr>\n",
       "      <th>10.0</th>\n",
       "      <td>0.000286</td>\n",
       "    </tr>\n",
       "  </tbody>\n",
       "</table>\n",
       "</div>"
      ],
      "text/plain": [
       "col_0       counts\n",
       "bedrooms          \n",
       "1.0       0.630527\n",
       "2.0       0.254541\n",
       "3.0       0.082486\n",
       "4.0       0.027019\n",
       "5.0       0.003542\n",
       "6.0       0.001085\n",
       "7.0       0.000228\n",
       "8.0       0.000171\n",
       "9.0       0.000114\n",
       "10.0      0.000286"
      ]
     },
     "execution_count": 35,
     "metadata": {},
     "output_type": "execute_result"
    }
   ],
   "source": [
    "w_bedrooms=pd.crosstab(df_w_bedrooms[\"bedrooms\"],columns=\"counts\",normalize=True)\n",
    "w_bedrooms"
   ]
  },
  {
   "cell_type": "markdown",
   "metadata": {},
   "source": [
    "* Reviews frequency"
   ]
  },
  {
   "cell_type": "code",
   "execution_count": 50,
   "metadata": {},
   "outputs": [
    {
     "data": {
      "text/plain": [
       "Text(0.5, 1.0, ' histogram of reviews where bins are 20 and range is between 0 to 100.')"
      ]
     },
     "execution_count": 50,
     "metadata": {},
     "output_type": "execute_result"
    },
    {
     "data": {
      "image/png": "[encoded data removed]",
      "text/plain": [
       "<Figure size 432x288 with 1 Axes>"
      ]
     },
     "metadata": {
      "needs_background": "light"
     },
     "output_type": "display_data"
    }
   ],
   "source": [
    "reviws_100=df1[df1[\"reviews\"]<100]\n",
    "plt.hist(reviws_100[\"reviews\"], bins=20)\n",
    "plt.xlabel(\"No.Reviews\")\n",
    "plt.ylabel(\"Freq.\")\n",
    "plt.title(\" histogram of reviews where bins are 20 and range is between 0 to 100.\")\n",
    "#plt.hist(,bins=20)"
   ]
  },
  {
   "cell_type": "code",
   "execution_count": 52,
   "metadata": {},
   "outputs": [
    {
     "data": {
      "text/plain": [
       "Text(0.5, 1.0, ' histogram of reviews where bins are 20 and range is between 0 to 1000.')"
      ]
     },
     "execution_count": 52,
     "metadata": {},
     "output_type": "execute_result"
    },
    {
     "data": {
      "image/png": "[encoded data removed]",
      "text/plain": [
       "<Figure size 432x288 with 1 Axes>"
      ]
     },
     "metadata": {
      "needs_background": "light"
     },
     "output_type": "display_data"
    }
   ],
   "source": [
    "reviws_1000=df1[df1[\"reviews\"]<1000]\n",
    "plt.hist(reviws_1000[\"reviews\"], bins=20)\n",
    "plt.xlabel(\"No.Reviews\")\n",
    "plt.ylabel(\"Freq.\")\n",
    "plt.title(\" histogram of reviews where bins are 20 and range is between 0 to 1000.\")"
   ]
  },
  {
   "cell_type": "markdown",
   "metadata": {},
   "source": [
    "* histogram of accommodates"
   ]
  },
  {
   "cell_type": "code",
   "execution_count": 55,
   "metadata": {},
   "outputs": [
    {
     "data": {
      "text/plain": [
       "Text(0.5, 0, 'No. accommodates')"
      ]
     },
     "execution_count": 55,
     "metadata": {},
     "output_type": "execute_result"
    },
    {
     "data": {
      "image/png": "[encoded data removed]",
      "text/plain": [
       "<Figure size 432x288 with 1 Axes>"
      ]
     },
     "metadata": {
      "needs_background": "light"
     },
     "output_type": "display_data"
    }
   ],
   "source": [
    "plt.hist(df1[\"accommodates\"],bins=16)\n",
    "plt.xlabel(\"No. accommodates\")"
   ]
  },
  {
   "cell_type": "markdown",
   "metadata": {},
   "source": [
    "* histogram of overall_satisfaction."
   ]
  },
  {
   "cell_type": "code",
   "execution_count": 56,
   "metadata": {},
   "outputs": [
    {
     "data": {
      "text/plain": [
       "Text(0.5, 0, 'Rating')"
      ]
     },
     "execution_count": 56,
     "metadata": {},
     "output_type": "execute_result"
    },
    {
     "data": {
      "image/png": "[encoded data removed]",
      "text/plain": [
       "<Figure size 432x288 with 1 Axes>"
      ]
     },
     "metadata": {
      "needs_background": "light"
     },
     "output_type": "display_data"
    }
   ],
   "source": [
    "plt.hist(df1[\"overall_satisfaction\"])\n",
    "plt.xlabel(\"Rating\")"
   ]
  },
  {
   "cell_type": "markdown",
   "metadata": {},
   "source": [
    "* overall_satisfaction based on the price"
   ]
  },
  {
   "cell_type": "code",
   "execution_count": 66,
   "metadata": {},
   "outputs": [
    {
     "data": {
      "text/plain": [
       "Text(0.5, 1.0, 'Rating for the properties with price from 100 to 200')"
      ]
     },
     "execution_count": 66,
     "metadata": {},
     "output_type": "execute_result"
    },
    {
     "data": {
      "image/png": "[encoded data removed]",
      "text/plain": [
       "<Figure size 432x288 with 1 Axes>"
      ]
     },
     "metadata": {
      "needs_background": "light"
     },
     "output_type": "display_data"
    }
   ],
   "source": [
    "df_100_200_price=df1[df1[\"price\"].between(100,200,inclusive=\"right\")]\n",
    "plt.hist(df_100_200_price[\"overall_satisfaction\"])\n",
    "plt.xlabel(\"Rating\")\n",
    "plt.title(\"Rating for the properties with price from 100 to 200\")"
   ]
  },
  {
   "cell_type": "code",
   "execution_count": 67,
   "metadata": {},
   "outputs": [
    {
     "data": {
      "text/plain": [
       "Text(0.5, 1.0, 'Rating for the properties with price greater than 200')"
      ]
     },
     "execution_count": 67,
     "metadata": {},
     "output_type": "execute_result"
    },
    {
     "data": {
      "image/png": "[encoded data removed]",
      "text/plain": [
       "<Figure size 432x288 with 1 Axes>"
      ]
     },
     "metadata": {
      "needs_background": "light"
     },
     "output_type": "display_data"
    }
   ],
   "source": [
    "df_more_than_200_price=df1[df1[\"price\"]>200]\n",
    "plt.hist(df_more_than_200_price[\"overall_satisfaction\"])\n",
    "plt.xlabel(\"Rating\")\n",
    "plt.title(\"Rating for the properties with price greater than 200\")"
   ]
  },
  {
   "cell_type": "markdown",
   "metadata": {},
   "source": [
    "* Discovering correlation between variables"
   ]
  },
  {
   "cell_type": "code",
   "execution_count": 68,
   "metadata": {},
   "outputs": [
    {
     "data": {
      "text/html": [
       "<div>\n",
       "<style scoped>\n",
       "    .dataframe tbody tr th:only-of-type {\n",
       "        vertical-align: middle;\n",
       "    }\n",
       "\n",
       "    .dataframe tbody tr th {\n",
       "        vertical-align: top;\n",
       "    }\n",
       "\n",
       "    .dataframe thead th {\n",
       "        text-align: right;\n",
       "    }\n",
       "</style>\n",
       "<table border=\"1\" class=\"dataframe\">\n",
       "  <thead>\n",
       "    <tr style=\"text-align: right;\">\n",
       "      <th></th>\n",
       "      <th>room_id</th>\n",
       "      <th>survey_id</th>\n",
       "      <th>host_id</th>\n",
       "      <th>country</th>\n",
       "      <th>borough</th>\n",
       "      <th>reviews</th>\n",
       "      <th>overall_satisfaction</th>\n",
       "      <th>accommodates</th>\n",
       "      <th>bedrooms</th>\n",
       "      <th>bathrooms</th>\n",
       "      <th>price</th>\n",
       "      <th>minstay</th>\n",
       "      <th>latitude</th>\n",
       "      <th>longitude</th>\n",
       "    </tr>\n",
       "  </thead>\n",
       "  <tbody>\n",
       "    <tr>\n",
       "      <th>room_id</th>\n",
       "      <td>1.000000</td>\n",
       "      <td>NaN</td>\n",
       "      <td>0.535218</td>\n",
       "      <td>NaN</td>\n",
       "      <td>NaN</td>\n",
       "      <td>-0.390279</td>\n",
       "      <td>-0.386031</td>\n",
       "      <td>-0.002451</td>\n",
       "      <td>-0.029074</td>\n",
       "      <td>NaN</td>\n",
       "      <td>-0.007968</td>\n",
       "      <td>NaN</td>\n",
       "      <td>-0.032478</td>\n",
       "      <td>0.010366</td>\n",
       "    </tr>\n",
       "    <tr>\n",
       "      <th>survey_id</th>\n",
       "      <td>NaN</td>\n",
       "      <td>NaN</td>\n",
       "      <td>NaN</td>\n",
       "      <td>NaN</td>\n",
       "      <td>NaN</td>\n",
       "      <td>NaN</td>\n",
       "      <td>NaN</td>\n",
       "      <td>NaN</td>\n",
       "      <td>NaN</td>\n",
       "      <td>NaN</td>\n",
       "      <td>NaN</td>\n",
       "      <td>NaN</td>\n",
       "      <td>NaN</td>\n",
       "      <td>NaN</td>\n",
       "    </tr>\n",
       "    <tr>\n",
       "      <th>host_id</th>\n",
       "      <td>0.535218</td>\n",
       "      <td>NaN</td>\n",
       "      <td>1.000000</td>\n",
       "      <td>NaN</td>\n",
       "      <td>NaN</td>\n",
       "      <td>-0.183130</td>\n",
       "      <td>-0.203480</td>\n",
       "      <td>0.013934</td>\n",
       "      <td>-0.016802</td>\n",
       "      <td>NaN</td>\n",
       "      <td>-0.016467</td>\n",
       "      <td>NaN</td>\n",
       "      <td>-0.026868</td>\n",
       "      <td>0.010497</td>\n",
       "    </tr>\n",
       "    <tr>\n",
       "      <th>country</th>\n",
       "      <td>NaN</td>\n",
       "      <td>NaN</td>\n",
       "      <td>NaN</td>\n",
       "      <td>NaN</td>\n",
       "      <td>NaN</td>\n",
       "      <td>NaN</td>\n",
       "      <td>NaN</td>\n",
       "      <td>NaN</td>\n",
       "      <td>NaN</td>\n",
       "      <td>NaN</td>\n",
       "      <td>NaN</td>\n",
       "      <td>NaN</td>\n",
       "      <td>NaN</td>\n",
       "      <td>NaN</td>\n",
       "    </tr>\n",
       "    <tr>\n",
       "      <th>borough</th>\n",
       "      <td>NaN</td>\n",
       "      <td>NaN</td>\n",
       "      <td>NaN</td>\n",
       "      <td>NaN</td>\n",
       "      <td>NaN</td>\n",
       "      <td>NaN</td>\n",
       "      <td>NaN</td>\n",
       "      <td>NaN</td>\n",
       "      <td>NaN</td>\n",
       "      <td>NaN</td>\n",
       "      <td>NaN</td>\n",
       "      <td>NaN</td>\n",
       "      <td>NaN</td>\n",
       "      <td>NaN</td>\n",
       "    </tr>\n",
       "    <tr>\n",
       "      <th>reviews</th>\n",
       "      <td>-0.390279</td>\n",
       "      <td>NaN</td>\n",
       "      <td>-0.183130</td>\n",
       "      <td>NaN</td>\n",
       "      <td>NaN</td>\n",
       "      <td>1.000000</td>\n",
       "      <td>0.316359</td>\n",
       "      <td>-0.062661</td>\n",
       "      <td>-0.114755</td>\n",
       "      <td>NaN</td>\n",
       "      <td>-0.084763</td>\n",
       "      <td>NaN</td>\n",
       "      <td>0.050281</td>\n",
       "      <td>-0.012449</td>\n",
       "    </tr>\n",
       "    <tr>\n",
       "      <th>overall_satisfaction</th>\n",
       "      <td>-0.386031</td>\n",
       "      <td>NaN</td>\n",
       "      <td>-0.203480</td>\n",
       "      <td>NaN</td>\n",
       "      <td>NaN</td>\n",
       "      <td>0.316359</td>\n",
       "      <td>1.000000</td>\n",
       "      <td>-0.053988</td>\n",
       "      <td>-0.088458</td>\n",
       "      <td>NaN</td>\n",
       "      <td>-0.045524</td>\n",
       "      <td>NaN</td>\n",
       "      <td>0.041489</td>\n",
       "      <td>-0.018138</td>\n",
       "    </tr>\n",
       "    <tr>\n",
       "      <th>accommodates</th>\n",
       "      <td>-0.002451</td>\n",
       "      <td>NaN</td>\n",
       "      <td>0.013934</td>\n",
       "      <td>NaN</td>\n",
       "      <td>NaN</td>\n",
       "      <td>-0.062661</td>\n",
       "      <td>-0.053988</td>\n",
       "      <td>1.000000</td>\n",
       "      <td>0.717244</td>\n",
       "      <td>NaN</td>\n",
       "      <td>0.502999</td>\n",
       "      <td>NaN</td>\n",
       "      <td>0.001586</td>\n",
       "      <td>0.104743</td>\n",
       "    </tr>\n",
       "    <tr>\n",
       "      <th>bedrooms</th>\n",
       "      <td>-0.029074</td>\n",
       "      <td>NaN</td>\n",
       "      <td>-0.016802</td>\n",
       "      <td>NaN</td>\n",
       "      <td>NaN</td>\n",
       "      <td>-0.114755</td>\n",
       "      <td>-0.088458</td>\n",
       "      <td>0.717244</td>\n",
       "      <td>1.000000</td>\n",
       "      <td>NaN</td>\n",
       "      <td>0.446049</td>\n",
       "      <td>NaN</td>\n",
       "      <td>-0.011126</td>\n",
       "      <td>0.095557</td>\n",
       "    </tr>\n",
       "    <tr>\n",
       "      <th>bathrooms</th>\n",
       "      <td>NaN</td>\n",
       "      <td>NaN</td>\n",
       "      <td>NaN</td>\n",
       "      <td>NaN</td>\n",
       "      <td>NaN</td>\n",
       "      <td>NaN</td>\n",
       "      <td>NaN</td>\n",
       "      <td>NaN</td>\n",
       "      <td>NaN</td>\n",
       "      <td>NaN</td>\n",
       "      <td>NaN</td>\n",
       "      <td>NaN</td>\n",
       "      <td>NaN</td>\n",
       "      <td>NaN</td>\n",
       "    </tr>\n",
       "    <tr>\n",
       "      <th>price</th>\n",
       "      <td>-0.007968</td>\n",
       "      <td>NaN</td>\n",
       "      <td>-0.016467</td>\n",
       "      <td>NaN</td>\n",
       "      <td>NaN</td>\n",
       "      <td>-0.084763</td>\n",
       "      <td>-0.045524</td>\n",
       "      <td>0.502999</td>\n",
       "      <td>0.446049</td>\n",
       "      <td>NaN</td>\n",
       "      <td>1.000000</td>\n",
       "      <td>NaN</td>\n",
       "      <td>0.013515</td>\n",
       "      <td>0.021023</td>\n",
       "    </tr>\n",
       "    <tr>\n",
       "      <th>minstay</th>\n",
       "      <td>NaN</td>\n",
       "      <td>NaN</td>\n",
       "      <td>NaN</td>\n",
       "      <td>NaN</td>\n",
       "      <td>NaN</td>\n",
       "      <td>NaN</td>\n",
       "      <td>NaN</td>\n",
       "      <td>NaN</td>\n",
       "      <td>NaN</td>\n",
       "      <td>NaN</td>\n",
       "      <td>NaN</td>\n",
       "      <td>NaN</td>\n",
       "      <td>NaN</td>\n",
       "      <td>NaN</td>\n",
       "    </tr>\n",
       "    <tr>\n",
       "      <th>latitude</th>\n",
       "      <td>-0.032478</td>\n",
       "      <td>NaN</td>\n",
       "      <td>-0.026868</td>\n",
       "      <td>NaN</td>\n",
       "      <td>NaN</td>\n",
       "      <td>0.050281</td>\n",
       "      <td>0.041489</td>\n",
       "      <td>0.001586</td>\n",
       "      <td>-0.011126</td>\n",
       "      <td>NaN</td>\n",
       "      <td>0.013515</td>\n",
       "      <td>NaN</td>\n",
       "      <td>1.000000</td>\n",
       "      <td>-0.107499</td>\n",
       "    </tr>\n",
       "    <tr>\n",
       "      <th>longitude</th>\n",
       "      <td>0.010366</td>\n",
       "      <td>NaN</td>\n",
       "      <td>0.010497</td>\n",
       "      <td>NaN</td>\n",
       "      <td>NaN</td>\n",
       "      <td>-0.012449</td>\n",
       "      <td>-0.018138</td>\n",
       "      <td>0.104743</td>\n",
       "      <td>0.095557</td>\n",
       "      <td>NaN</td>\n",
       "      <td>0.021023</td>\n",
       "      <td>NaN</td>\n",
       "      <td>-0.107499</td>\n",
       "      <td>1.000000</td>\n",
       "    </tr>\n",
       "  </tbody>\n",
       "</table>\n",
       "</div>"
      ],
      "text/plain": [
       "                       room_id  survey_id   host_id  country  borough  \\\n",
       "room_id               1.000000        NaN  0.535218      NaN      NaN   \n",
       "survey_id                  NaN        NaN       NaN      NaN      NaN   \n",
       "host_id               0.535218        NaN  1.000000      NaN      NaN   \n",
       "country                    NaN        NaN       NaN      NaN      NaN   \n",
       "borough                    NaN        NaN       NaN      NaN      NaN   \n",
       "reviews              -0.390279        NaN -0.183130      NaN      NaN   \n",
       "overall_satisfaction -0.386031        NaN -0.203480      NaN      NaN   \n",
       "accommodates         -0.002451        NaN  0.013934      NaN      NaN   \n",
       "bedrooms             -0.029074        NaN -0.016802      NaN      NaN   \n",
       "bathrooms                  NaN        NaN       NaN      NaN      NaN   \n",
       "price                -0.007968        NaN -0.016467      NaN      NaN   \n",
       "minstay                    NaN        NaN       NaN      NaN      NaN   \n",
       "latitude             -0.032478        NaN -0.026868      NaN      NaN   \n",
       "longitude             0.010366        NaN  0.010497      NaN      NaN   \n",
       "\n",
       "                       reviews  overall_satisfaction  accommodates  bedrooms  \\\n",
       "room_id              -0.390279             -0.386031     -0.002451 -0.029074   \n",
       "survey_id                  NaN                   NaN           NaN       NaN   \n",
       "host_id              -0.183130             -0.203480      0.013934 -0.016802   \n",
       "country                    NaN                   NaN           NaN       NaN   \n",
       "borough                    NaN                   NaN           NaN       NaN   \n",
       "reviews               1.000000              0.316359     -0.062661 -0.114755   \n",
       "overall_satisfaction  0.316359              1.000000     -0.053988 -0.088458   \n",
       "accommodates         -0.062661             -0.053988      1.000000  0.717244   \n",
       "bedrooms             -0.114755             -0.088458      0.717244  1.000000   \n",
       "bathrooms                  NaN                   NaN           NaN       NaN   \n",
       "price                -0.084763             -0.045524      0.502999  0.446049   \n",
       "minstay                    NaN                   NaN           NaN       NaN   \n",
       "latitude              0.050281              0.041489      0.001586 -0.011126   \n",
       "longitude            -0.012449             -0.018138      0.104743  0.095557   \n",
       "\n",
       "                      bathrooms     price  minstay  latitude  longitude  \n",
       "room_id                     NaN -0.007968      NaN -0.032478   0.010366  \n",
       "survey_id                   NaN       NaN      NaN       NaN        NaN  \n",
       "host_id                     NaN -0.016467      NaN -0.026868   0.010497  \n",
       "country                     NaN       NaN      NaN       NaN        NaN  \n",
       "borough                     NaN       NaN      NaN       NaN        NaN  \n",
       "reviews                     NaN -0.084763      NaN  0.050281  -0.012449  \n",
       "overall_satisfaction        NaN -0.045524      NaN  0.041489  -0.018138  \n",
       "accommodates                NaN  0.502999      NaN  0.001586   0.104743  \n",
       "bedrooms                    NaN  0.446049      NaN -0.011126   0.095557  \n",
       "bathrooms                   NaN       NaN      NaN       NaN        NaN  \n",
       "price                       NaN  1.000000      NaN  0.013515   0.021023  \n",
       "minstay                     NaN       NaN      NaN       NaN        NaN  \n",
       "latitude                    NaN  0.013515      NaN  1.000000  -0.107499  \n",
       "longitude                   NaN  0.021023      NaN -0.107499   1.000000  "
      ]
     },
     "execution_count": 68,
     "metadata": {},
     "output_type": "execute_result"
    }
   ],
   "source": [
    "df1.corr()"
   ]
  },
  {
   "cell_type": "code",
   "execution_count": 71,
   "metadata": {},
   "outputs": [
    {
     "data": {
      "image/png": "[encoded data removed]",
      "text/plain": [
       "<Figure size 864x720 with 2 Axes>"
      ]
     },
     "metadata": {
      "needs_background": "light"
     },
     "output_type": "display_data"
    }
   ],
   "source": [
    "fig,ax=plt.subplots(figsize=(12,10))\n",
    "ax=sns.heatmap(df1.corr(),annot=True,linewidths=0.5)"
   ]
  }
 ],
 "metadata": {
  "interpreter": {
   "hash": "df1545152d57f88178dd57c74c249c893ee2adf50ef6f823c5ca99051aae602e"
  },
  "kernelspec": {
   "display_name": "Python 3.10.1 64-bit ('minimal_ds': conda)",
   "language": "python",
   "name": "python3"
  },
  "language_info": {
   "codemirror_mode": {
    "name": "ipython",
    "version": 3
   },
   "file_extension": ".py",
   "mimetype": "text/x-python",
   "name": "python",
   "nbconvert_exporter": "python",
   "pygments_lexer": "ipython3",
   "version": "3.10.1"
  },
  "orig_nbformat": 4
 },
 "nbformat": 4,
 "nbformat_minor": 2
}
