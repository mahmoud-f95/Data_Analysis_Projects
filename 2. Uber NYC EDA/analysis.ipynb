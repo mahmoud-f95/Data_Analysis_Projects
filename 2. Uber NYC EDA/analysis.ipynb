{
 "cells": [
  {
   "cell_type": "markdown",
   "metadata": {},
   "source": [
    "#### Importing the data"
   ]
  },
  {
   "cell_type": "code",
   "execution_count": 1,
   "metadata": {},
   "outputs": [],
   "source": [
    "import pandas as pd\n",
    "import numpy as np\n",
    "import matplotlib.pyplot as plt\n",
    "import seaborn as sns\n",
    "from importlib import reload\n",
    "plt=reload(plt)"
   ]
  },
  {
   "cell_type": "code",
   "execution_count": 2,
   "metadata": {},
   "outputs": [
    {
     "data": {
      "text/html": [
       "<div>\n",
       "<style scoped>\n",
       "    .dataframe tbody tr th:only-of-type {\n",
       "        vertical-align: middle;\n",
       "    }\n",
       "\n",
       "    .dataframe tbody tr th {\n",
       "        vertical-align: top;\n",
       "    }\n",
       "\n",
       "    .dataframe thead th {\n",
       "        text-align: right;\n",
       "    }\n",
       "</style>\n",
       "<table border=\"1\" class=\"dataframe\">\n",
       "  <thead>\n",
       "    <tr style=\"text-align: right;\">\n",
       "      <th></th>\n",
       "      <th>DATE</th>\n",
       "      <th>TIME</th>\n",
       "      <th>PICK UP ADDRESS</th>\n",
       "      <th>Unnamed: 3</th>\n",
       "      <th>Unnamed: 4</th>\n",
       "      <th>Unnamed: 5</th>\n",
       "    </tr>\n",
       "  </thead>\n",
       "  <tbody>\n",
       "    <tr>\n",
       "      <th>0</th>\n",
       "      <td>7/1/2014</td>\n",
       "      <td>12:00:00 AM</td>\n",
       "      <td>874 E 139th St Mott Haven, BX</td>\n",
       "      <td>NaN</td>\n",
       "      <td>NaN</td>\n",
       "      <td>NaN</td>\n",
       "    </tr>\n",
       "    <tr>\n",
       "      <th>1</th>\n",
       "      <td>7/1/2014</td>\n",
       "      <td>12:01:00 AM</td>\n",
       "      <td>628 E 141st St Mott Haven, BX</td>\n",
       "      <td>NaN</td>\n",
       "      <td>NaN</td>\n",
       "      <td>NaN</td>\n",
       "    </tr>\n",
       "    <tr>\n",
       "      <th>2</th>\n",
       "      <td>7/1/2014</td>\n",
       "      <td>12:01:00 AM</td>\n",
       "      <td>601 E 156th St South Bronx, BX</td>\n",
       "      <td>NaN</td>\n",
       "      <td>NaN</td>\n",
       "      <td>NaN</td>\n",
       "    </tr>\n",
       "    <tr>\n",
       "      <th>3</th>\n",
       "      <td>7/1/2014</td>\n",
       "      <td>12:01:00 AM</td>\n",
       "      <td>708 E 138th St Mott Haven, BX</td>\n",
       "      <td>NaN</td>\n",
       "      <td>NaN</td>\n",
       "      <td>NaN</td>\n",
       "    </tr>\n",
       "    <tr>\n",
       "      <th>4</th>\n",
       "      <td>7/1/2014</td>\n",
       "      <td>12:02:00 AM</td>\n",
       "      <td>700 E 140th St Mott Haven, BX</td>\n",
       "      <td>NaN</td>\n",
       "      <td>NaN</td>\n",
       "      <td>NaN</td>\n",
       "    </tr>\n",
       "  </tbody>\n",
       "</table>\n",
       "</div>"
      ],
      "text/plain": [
       "       DATE         TIME                  PICK UP ADDRESS  Unnamed: 3  \\\n",
       "0  7/1/2014  12:00:00 AM    874 E 139th St Mott Haven, BX         NaN   \n",
       "1  7/1/2014  12:01:00 AM    628 E 141st St Mott Haven, BX         NaN   \n",
       "2  7/1/2014  12:01:00 AM   601 E 156th St South Bronx, BX         NaN   \n",
       "3  7/1/2014  12:01:00 AM    708 E 138th St Mott Haven, BX         NaN   \n",
       "4  7/1/2014  12:02:00 AM    700 E 140th St Mott Haven, BX         NaN   \n",
       "\n",
       "   Unnamed: 4  Unnamed: 5  \n",
       "0         NaN         NaN  \n",
       "1         NaN         NaN  \n",
       "2         NaN         NaN  \n",
       "3         NaN         NaN  \n",
       "4         NaN         NaN  "
      ]
     },
     "execution_count": 2,
     "metadata": {},
     "output_type": "execute_result"
    }
   ],
   "source": [
    "df=pd.read_csv(\"data.csv\")\n",
    "df.head()"
   ]
  },
  {
   "cell_type": "code",
   "execution_count": 3,
   "metadata": {},
   "outputs": [
    {
     "name": "stdout",
     "output_type": "stream",
     "text": [
      "<class 'pandas.core.frame.DataFrame'>\n",
      "RangeIndex: 91712 entries, 0 to 91711\n",
      "Data columns (total 6 columns):\n",
      " #   Column           Non-Null Count  Dtype  \n",
      "---  ------           --------------  -----  \n",
      " 0   DATE             91712 non-null  object \n",
      " 1   TIME             91712 non-null  object \n",
      " 2   PICK UP ADDRESS  91712 non-null  object \n",
      " 3   Unnamed: 3       0 non-null      float64\n",
      " 4   Unnamed: 4       0 non-null      float64\n",
      " 5   Unnamed: 5       0 non-null      float64\n",
      "dtypes: float64(3), object(3)\n",
      "memory usage: 4.2+ MB\n"
     ]
    }
   ],
   "source": [
    "df.info()"
   ]
  },
  {
   "cell_type": "markdown",
   "metadata": {},
   "source": [
    "#### Data preparation"
   ]
  },
  {
   "cell_type": "markdown",
   "metadata": {},
   "source": [
    "* Removing unwanted column"
   ]
  },
  {
   "cell_type": "code",
   "execution_count": 4,
   "metadata": {},
   "outputs": [
    {
     "data": {
      "text/html": [
       "<div>\n",
       "<style scoped>\n",
       "    .dataframe tbody tr th:only-of-type {\n",
       "        vertical-align: middle;\n",
       "    }\n",
       "\n",
       "    .dataframe tbody tr th {\n",
       "        vertical-align: top;\n",
       "    }\n",
       "\n",
       "    .dataframe thead th {\n",
       "        text-align: right;\n",
       "    }\n",
       "</style>\n",
       "<table border=\"1\" class=\"dataframe\">\n",
       "  <thead>\n",
       "    <tr style=\"text-align: right;\">\n",
       "      <th></th>\n",
       "      <th>DATE</th>\n",
       "      <th>TIME</th>\n",
       "      <th>PICK UP ADDRESS</th>\n",
       "    </tr>\n",
       "  </thead>\n",
       "  <tbody>\n",
       "    <tr>\n",
       "      <th>0</th>\n",
       "      <td>7/1/2014</td>\n",
       "      <td>12:00:00 AM</td>\n",
       "      <td>874 E 139th St Mott Haven, BX</td>\n",
       "    </tr>\n",
       "    <tr>\n",
       "      <th>1</th>\n",
       "      <td>7/1/2014</td>\n",
       "      <td>12:01:00 AM</td>\n",
       "      <td>628 E 141st St Mott Haven, BX</td>\n",
       "    </tr>\n",
       "    <tr>\n",
       "      <th>2</th>\n",
       "      <td>7/1/2014</td>\n",
       "      <td>12:01:00 AM</td>\n",
       "      <td>601 E 156th St South Bronx, BX</td>\n",
       "    </tr>\n",
       "    <tr>\n",
       "      <th>3</th>\n",
       "      <td>7/1/2014</td>\n",
       "      <td>12:01:00 AM</td>\n",
       "      <td>708 E 138th St Mott Haven, BX</td>\n",
       "    </tr>\n",
       "    <tr>\n",
       "      <th>4</th>\n",
       "      <td>7/1/2014</td>\n",
       "      <td>12:02:00 AM</td>\n",
       "      <td>700 E 140th St Mott Haven, BX</td>\n",
       "    </tr>\n",
       "    <tr>\n",
       "      <th>...</th>\n",
       "      <td>...</td>\n",
       "      <td>...</td>\n",
       "      <td>...</td>\n",
       "    </tr>\n",
       "    <tr>\n",
       "      <th>91707</th>\n",
       "      <td>9/30/2014</td>\n",
       "      <td>11:47:00 PM</td>\n",
       "      <td>593 Oak Ter Mott Haven, BX</td>\n",
       "    </tr>\n",
       "    <tr>\n",
       "      <th>91708</th>\n",
       "      <td>9/30/2014</td>\n",
       "      <td>11:48:00 PM</td>\n",
       "      <td>645 Westchester Ave South Bronx, BX</td>\n",
       "    </tr>\n",
       "    <tr>\n",
       "      <th>91709</th>\n",
       "      <td>9/30/2014</td>\n",
       "      <td>11:51:00 PM</td>\n",
       "      <td>625 Tinton Ave South Bronx, BX</td>\n",
       "    </tr>\n",
       "    <tr>\n",
       "      <th>91710</th>\n",
       "      <td>9/30/2014</td>\n",
       "      <td>11:54:00 PM</td>\n",
       "      <td>350 Saint Anns Ave Mott Haven, BX</td>\n",
       "    </tr>\n",
       "    <tr>\n",
       "      <th>91711</th>\n",
       "      <td>9/30/2014</td>\n",
       "      <td>11:58:00 PM</td>\n",
       "      <td>846 Tinton Ave Morrisania, BX</td>\n",
       "    </tr>\n",
       "  </tbody>\n",
       "</table>\n",
       "<p>91712 rows × 3 columns</p>\n",
       "</div>"
      ],
      "text/plain": [
       "            DATE         TIME                       PICK UP ADDRESS\n",
       "0       7/1/2014  12:00:00 AM         874 E 139th St Mott Haven, BX\n",
       "1       7/1/2014  12:01:00 AM         628 E 141st St Mott Haven, BX\n",
       "2       7/1/2014  12:01:00 AM        601 E 156th St South Bronx, BX\n",
       "3       7/1/2014  12:01:00 AM         708 E 138th St Mott Haven, BX\n",
       "4       7/1/2014  12:02:00 AM         700 E 140th St Mott Haven, BX\n",
       "...          ...          ...                                   ...\n",
       "91707  9/30/2014  11:47:00 PM            593 Oak Ter Mott Haven, BX\n",
       "91708  9/30/2014  11:48:00 PM   645 Westchester Ave South Bronx, BX\n",
       "91709  9/30/2014  11:51:00 PM        625 Tinton Ave South Bronx, BX\n",
       "91710  9/30/2014  11:54:00 PM     350 Saint Anns Ave Mott Haven, BX\n",
       "91711  9/30/2014  11:58:00 PM         846 Tinton Ave Morrisania, BX\n",
       "\n",
       "[91712 rows x 3 columns]"
      ]
     },
     "execution_count": 4,
     "metadata": {},
     "output_type": "execute_result"
    }
   ],
   "source": [
    "df1=df.drop([\"Unnamed: 3\",\"Unnamed: 4\",\"Unnamed: 5\"],axis=1)\n",
    "df1"
   ]
  },
  {
   "cell_type": "markdown",
   "metadata": {},
   "source": [
    "* Formatting the date and adding the month/day of month/day of week column"
   ]
  },
  {
   "cell_type": "code",
   "execution_count": 5,
   "metadata": {},
   "outputs": [
    {
     "name": "stdout",
     "output_type": "stream",
     "text": [
      "<class 'pandas.core.frame.DataFrame'>\n",
      "RangeIndex: 91712 entries, 0 to 91711\n",
      "Data columns (total 4 columns):\n",
      " #   Column           Non-Null Count  Dtype \n",
      "---  ------           --------------  ----- \n",
      " 0   DATE             91712 non-null  object\n",
      " 1   TIME             91712 non-null  object\n",
      " 2   PICK UP ADDRESS  91712 non-null  object\n",
      " 3   date_time        91712 non-null  object\n",
      "dtypes: object(4)\n",
      "memory usage: 2.8+ MB\n"
     ]
    }
   ],
   "source": [
    "df1[\"date_time\"]=df[[\"DATE\",\"TIME\"]].agg(\"-\".join,axis=1)\n",
    "df1.info()"
   ]
  },
  {
   "cell_type": "code",
   "execution_count": 9,
   "metadata": {},
   "outputs": [
    {
     "name": "stdout",
     "output_type": "stream",
     "text": [
      "<class 'pandas.core.frame.DataFrame'>\n",
      "RangeIndex: 91712 entries, 0 to 91711\n",
      "Data columns (total 4 columns):\n",
      " #   Column           Non-Null Count  Dtype         \n",
      "---  ------           --------------  -----         \n",
      " 0   DATE             91712 non-null  object        \n",
      " 1   TIME             91712 non-null  object        \n",
      " 2   PICK UP ADDRESS  91712 non-null  object        \n",
      " 3   date_time        91712 non-null  datetime64[ns]\n",
      "dtypes: datetime64[ns](1), object(3)\n",
      "memory usage: 2.8+ MB\n"
     ]
    }
   ],
   "source": [
    "df1[\"date_time\"]=pd.to_datetime(df1[\"date_time\"])\n",
    "df1.info()"
   ]
  },
  {
   "cell_type": "code",
   "execution_count": 24,
   "metadata": {},
   "outputs": [
    {
     "data": {
      "text/html": [
       "<div>\n",
       "<style scoped>\n",
       "    .dataframe tbody tr th:only-of-type {\n",
       "        vertical-align: middle;\n",
       "    }\n",
       "\n",
       "    .dataframe tbody tr th {\n",
       "        vertical-align: top;\n",
       "    }\n",
       "\n",
       "    .dataframe thead th {\n",
       "        text-align: right;\n",
       "    }\n",
       "</style>\n",
       "<table border=\"1\" class=\"dataframe\">\n",
       "  <thead>\n",
       "    <tr style=\"text-align: right;\">\n",
       "      <th></th>\n",
       "      <th>DATE</th>\n",
       "      <th>TIME</th>\n",
       "      <th>PICK UP ADDRESS</th>\n",
       "      <th>date_time</th>\n",
       "      <th>month</th>\n",
       "      <th>day_of_month</th>\n",
       "      <th>day_of_week</th>\n",
       "      <th>hour_of_day</th>\n",
       "    </tr>\n",
       "  </thead>\n",
       "  <tbody>\n",
       "    <tr>\n",
       "      <th>0</th>\n",
       "      <td>7/1/2014</td>\n",
       "      <td>12:00:00 AM</td>\n",
       "      <td>874 E 139th St Mott Haven, BX</td>\n",
       "      <td>2014-07-01 00:00:00</td>\n",
       "      <td>July</td>\n",
       "      <td>1</td>\n",
       "      <td>Tuesday</td>\n",
       "      <td>0</td>\n",
       "    </tr>\n",
       "    <tr>\n",
       "      <th>1</th>\n",
       "      <td>7/1/2014</td>\n",
       "      <td>12:01:00 AM</td>\n",
       "      <td>628 E 141st St Mott Haven, BX</td>\n",
       "      <td>2014-07-01 00:01:00</td>\n",
       "      <td>July</td>\n",
       "      <td>1</td>\n",
       "      <td>Tuesday</td>\n",
       "      <td>0</td>\n",
       "    </tr>\n",
       "    <tr>\n",
       "      <th>2</th>\n",
       "      <td>7/1/2014</td>\n",
       "      <td>12:01:00 AM</td>\n",
       "      <td>601 E 156th St South Bronx, BX</td>\n",
       "      <td>2014-07-01 00:01:00</td>\n",
       "      <td>July</td>\n",
       "      <td>1</td>\n",
       "      <td>Tuesday</td>\n",
       "      <td>0</td>\n",
       "    </tr>\n",
       "    <tr>\n",
       "      <th>3</th>\n",
       "      <td>7/1/2014</td>\n",
       "      <td>12:01:00 AM</td>\n",
       "      <td>708 E 138th St Mott Haven, BX</td>\n",
       "      <td>2014-07-01 00:01:00</td>\n",
       "      <td>July</td>\n",
       "      <td>1</td>\n",
       "      <td>Tuesday</td>\n",
       "      <td>0</td>\n",
       "    </tr>\n",
       "    <tr>\n",
       "      <th>4</th>\n",
       "      <td>7/1/2014</td>\n",
       "      <td>12:02:00 AM</td>\n",
       "      <td>700 E 140th St Mott Haven, BX</td>\n",
       "      <td>2014-07-01 00:02:00</td>\n",
       "      <td>July</td>\n",
       "      <td>1</td>\n",
       "      <td>Tuesday</td>\n",
       "      <td>0</td>\n",
       "    </tr>\n",
       "  </tbody>\n",
       "</table>\n",
       "</div>"
      ],
      "text/plain": [
       "       DATE         TIME                  PICK UP ADDRESS           date_time  \\\n",
       "0  7/1/2014  12:00:00 AM    874 E 139th St Mott Haven, BX 2014-07-01 00:00:00   \n",
       "1  7/1/2014  12:01:00 AM    628 E 141st St Mott Haven, BX 2014-07-01 00:01:00   \n",
       "2  7/1/2014  12:01:00 AM   601 E 156th St South Bronx, BX 2014-07-01 00:01:00   \n",
       "3  7/1/2014  12:01:00 AM    708 E 138th St Mott Haven, BX 2014-07-01 00:01:00   \n",
       "4  7/1/2014  12:02:00 AM    700 E 140th St Mott Haven, BX 2014-07-01 00:02:00   \n",
       "\n",
       "  month  day_of_month day_of_week  hour_of_day  \n",
       "0  July             1     Tuesday            0  \n",
       "1  July             1     Tuesday            0  \n",
       "2  July             1     Tuesday            0  \n",
       "3  July             1     Tuesday            0  \n",
       "4  July             1     Tuesday            0  "
      ]
     },
     "execution_count": 24,
     "metadata": {},
     "output_type": "execute_result"
    }
   ],
   "source": [
    "df1[\"month\"]=df1[\"date_time\"].dt.month_name()\n",
    "df1[\"day_of_month\"]=df1[\"date_time\"].dt.day\n",
    "df1[\"day_of_week\"]=df1[\"date_time\"].dt.day_name()\n",
    "df1[\"hour_of_day\"]=df1[\"date_time\"].dt.hour\n",
    "df1.head()"
   ]
  },
  {
   "cell_type": "markdown",
   "metadata": {},
   "source": [
    "#### data Analysis"
   ]
  },
  {
   "cell_type": "markdown",
   "metadata": {},
   "source": [
    "* Trips rate per day of month"
   ]
  },
  {
   "cell_type": "code",
   "execution_count": 41,
   "metadata": {},
   "outputs": [
    {
     "data": {
      "text/plain": [
       "Text(0.5, 1.0, 'trips per day of month')"
      ]
     },
     "execution_count": 41,
     "metadata": {},
     "output_type": "execute_result"
    },
    {
     "data": {
      "image/png": "[encoded data removed]",
      "text/plain": [
       "<Figure size 864x576 with 1 Axes>"
      ]
     },
     "metadata": {
      "needs_background": "light"
     },
     "output_type": "display_data"
    }
   ],
   "source": [
    "df1[\"day_of_month\"].value_counts()\n",
    "fig,ax=plt.subplots(figsize=(12,8))\n",
    "plt.hist(df1[\"day_of_month\"],bins=31,rwidth=0.85)\n",
    "plt.xlabel(\"day of month\")\n",
    "plt.title(\"trips per day of month\")"
   ]
  },
  {
   "cell_type": "markdown",
   "metadata": {},
   "source": [
    "* Trips rate per hours of the day"
   ]
  },
  {
   "cell_type": "code",
   "execution_count": 42,
   "metadata": {},
   "outputs": [
    {
     "data": {
      "text/plain": [
       "Text(0.5, 0, 'hour')"
      ]
     },
     "execution_count": 42,
     "metadata": {},
     "output_type": "execute_result"
    },
    {
     "data": {
      "image/png": "[encoded data removed]",
      "text/plain": [
       "<Figure size 864x576 with 1 Axes>"
      ]
     },
     "metadata": {
      "needs_background": "light"
     },
     "output_type": "display_data"
    }
   ],
   "source": [
    "df1[\"hour_of_day\"].value_counts()\n",
    "fig,ax=plt.subplots(figsize=(12,8))\n",
    "plt.hist(df1[\"hour_of_day\"],bins=24,rwidth=0.85)\n",
    "plt.title(\"trips per hour of day\")\n",
    "plt.xlabel(\"hour\")"
   ]
  },
  {
   "cell_type": "markdown",
   "metadata": {},
   "source": [
    "* Trips rate per day of the week"
   ]
  },
  {
   "cell_type": "code",
   "execution_count": 40,
   "metadata": {},
   "outputs": [
    {
     "data": {
      "text/plain": [
       "Text(0.5, 0, 'day')"
      ]
     },
     "execution_count": 40,
     "metadata": {},
     "output_type": "execute_result"
    },
    {
     "data": {
      "image/png": "[encoded data removed]",
      "text/plain": [
       "<Figure size 864x576 with 1 Axes>"
      ]
     },
     "metadata": {
      "needs_background": "light"
     },
     "output_type": "display_data"
    }
   ],
   "source": [
    "df1[\"day_of_week\"].value_counts()\n",
    "fig,ax=plt.subplots(figsize=(12,8))\n",
    "plt.hist(df1[\"day_of_week\"],bins=7,rwidth=0.85,range=(-.5,6.5))\n",
    "plt.title(\"trips per day of week\")\n",
    "plt.xlabel(\"day\")"
   ]
  },
  {
   "cell_type": "markdown",
   "metadata": {},
   "source": [
    "* Cross analysis (days/hours)"
   ]
  },
  {
   "cell_type": "code",
   "execution_count": 32,
   "metadata": {},
   "outputs": [
    {
     "data": {
      "text/html": [
       "<div>\n",
       "<style scoped>\n",
       "    .dataframe tbody tr th:only-of-type {\n",
       "        vertical-align: middle;\n",
       "    }\n",
       "\n",
       "    .dataframe tbody tr th {\n",
       "        vertical-align: top;\n",
       "    }\n",
       "\n",
       "    .dataframe thead th {\n",
       "        text-align: right;\n",
       "    }\n",
       "</style>\n",
       "<table border=\"1\" class=\"dataframe\">\n",
       "  <thead>\n",
       "    <tr style=\"text-align: right;\">\n",
       "      <th>hour_of_day</th>\n",
       "      <th>0</th>\n",
       "      <th>1</th>\n",
       "      <th>2</th>\n",
       "      <th>3</th>\n",
       "      <th>4</th>\n",
       "      <th>5</th>\n",
       "      <th>6</th>\n",
       "      <th>7</th>\n",
       "      <th>8</th>\n",
       "      <th>9</th>\n",
       "      <th>...</th>\n",
       "      <th>14</th>\n",
       "      <th>15</th>\n",
       "      <th>16</th>\n",
       "      <th>17</th>\n",
       "      <th>18</th>\n",
       "      <th>19</th>\n",
       "      <th>20</th>\n",
       "      <th>21</th>\n",
       "      <th>22</th>\n",
       "      <th>23</th>\n",
       "    </tr>\n",
       "    <tr>\n",
       "      <th>day_of_week</th>\n",
       "      <th></th>\n",
       "      <th></th>\n",
       "      <th></th>\n",
       "      <th></th>\n",
       "      <th></th>\n",
       "      <th></th>\n",
       "      <th></th>\n",
       "      <th></th>\n",
       "      <th></th>\n",
       "      <th></th>\n",
       "      <th></th>\n",
       "      <th></th>\n",
       "      <th></th>\n",
       "      <th></th>\n",
       "      <th></th>\n",
       "      <th></th>\n",
       "      <th></th>\n",
       "      <th></th>\n",
       "      <th></th>\n",
       "      <th></th>\n",
       "      <th></th>\n",
       "    </tr>\n",
       "  </thead>\n",
       "  <tbody>\n",
       "    <tr>\n",
       "      <th>Friday</th>\n",
       "      <td>562</td>\n",
       "      <td>415</td>\n",
       "      <td>305</td>\n",
       "      <td>217</td>\n",
       "      <td>272</td>\n",
       "      <td>362</td>\n",
       "      <td>504</td>\n",
       "      <td>807</td>\n",
       "      <td>865</td>\n",
       "      <td>701</td>\n",
       "      <td>...</td>\n",
       "      <td>556</td>\n",
       "      <td>528</td>\n",
       "      <td>616</td>\n",
       "      <td>609</td>\n",
       "      <td>734</td>\n",
       "      <td>770</td>\n",
       "      <td>876</td>\n",
       "      <td>875</td>\n",
       "      <td>871</td>\n",
       "      <td>972</td>\n",
       "    </tr>\n",
       "    <tr>\n",
       "      <th>Monday</th>\n",
       "      <td>550</td>\n",
       "      <td>466</td>\n",
       "      <td>270</td>\n",
       "      <td>215</td>\n",
       "      <td>234</td>\n",
       "      <td>293</td>\n",
       "      <td>440</td>\n",
       "      <td>749</td>\n",
       "      <td>816</td>\n",
       "      <td>604</td>\n",
       "      <td>...</td>\n",
       "      <td>427</td>\n",
       "      <td>394</td>\n",
       "      <td>434</td>\n",
       "      <td>442</td>\n",
       "      <td>387</td>\n",
       "      <td>470</td>\n",
       "      <td>483</td>\n",
       "      <td>560</td>\n",
       "      <td>508</td>\n",
       "      <td>621</td>\n",
       "    </tr>\n",
       "    <tr>\n",
       "      <th>Saturday</th>\n",
       "      <td>962</td>\n",
       "      <td>826</td>\n",
       "      <td>655</td>\n",
       "      <td>589</td>\n",
       "      <td>505</td>\n",
       "      <td>483</td>\n",
       "      <td>405</td>\n",
       "      <td>488</td>\n",
       "      <td>514</td>\n",
       "      <td>564</td>\n",
       "      <td>...</td>\n",
       "      <td>542</td>\n",
       "      <td>638</td>\n",
       "      <td>701</td>\n",
       "      <td>672</td>\n",
       "      <td>762</td>\n",
       "      <td>882</td>\n",
       "      <td>971</td>\n",
       "      <td>1000</td>\n",
       "      <td>1144</td>\n",
       "      <td>1223</td>\n",
       "    </tr>\n",
       "    <tr>\n",
       "      <th>Sunday</th>\n",
       "      <td>1136</td>\n",
       "      <td>955</td>\n",
       "      <td>761</td>\n",
       "      <td>567</td>\n",
       "      <td>508</td>\n",
       "      <td>497</td>\n",
       "      <td>380</td>\n",
       "      <td>462</td>\n",
       "      <td>360</td>\n",
       "      <td>479</td>\n",
       "      <td>...</td>\n",
       "      <td>508</td>\n",
       "      <td>597</td>\n",
       "      <td>603</td>\n",
       "      <td>543</td>\n",
       "      <td>540</td>\n",
       "      <td>624</td>\n",
       "      <td>715</td>\n",
       "      <td>773</td>\n",
       "      <td>781</td>\n",
       "      <td>693</td>\n",
       "    </tr>\n",
       "    <tr>\n",
       "      <th>Thursday</th>\n",
       "      <td>450</td>\n",
       "      <td>334</td>\n",
       "      <td>223</td>\n",
       "      <td>216</td>\n",
       "      <td>267</td>\n",
       "      <td>294</td>\n",
       "      <td>399</td>\n",
       "      <td>830</td>\n",
       "      <td>875</td>\n",
       "      <td>746</td>\n",
       "      <td>...</td>\n",
       "      <td>430</td>\n",
       "      <td>434</td>\n",
       "      <td>489</td>\n",
       "      <td>542</td>\n",
       "      <td>530</td>\n",
       "      <td>538</td>\n",
       "      <td>508</td>\n",
       "      <td>569</td>\n",
       "      <td>627</td>\n",
       "      <td>726</td>\n",
       "    </tr>\n",
       "    <tr>\n",
       "      <th>Tuesday</th>\n",
       "      <td>495</td>\n",
       "      <td>352</td>\n",
       "      <td>261</td>\n",
       "      <td>193</td>\n",
       "      <td>249</td>\n",
       "      <td>310</td>\n",
       "      <td>435</td>\n",
       "      <td>866</td>\n",
       "      <td>947</td>\n",
       "      <td>708</td>\n",
       "      <td>...</td>\n",
       "      <td>532</td>\n",
       "      <td>500</td>\n",
       "      <td>551</td>\n",
       "      <td>520</td>\n",
       "      <td>445</td>\n",
       "      <td>529</td>\n",
       "      <td>586</td>\n",
       "      <td>536</td>\n",
       "      <td>522</td>\n",
       "      <td>612</td>\n",
       "    </tr>\n",
       "    <tr>\n",
       "      <th>Wednesday</th>\n",
       "      <td>441</td>\n",
       "      <td>322</td>\n",
       "      <td>220</td>\n",
       "      <td>212</td>\n",
       "      <td>267</td>\n",
       "      <td>271</td>\n",
       "      <td>455</td>\n",
       "      <td>831</td>\n",
       "      <td>855</td>\n",
       "      <td>642</td>\n",
       "      <td>...</td>\n",
       "      <td>437</td>\n",
       "      <td>419</td>\n",
       "      <td>454</td>\n",
       "      <td>527</td>\n",
       "      <td>499</td>\n",
       "      <td>481</td>\n",
       "      <td>557</td>\n",
       "      <td>569</td>\n",
       "      <td>516</td>\n",
       "      <td>599</td>\n",
       "    </tr>\n",
       "  </tbody>\n",
       "</table>\n",
       "<p>7 rows × 24 columns</p>\n",
       "</div>"
      ],
      "text/plain": [
       "hour_of_day    0    1    2    3    4    5    6    7    8    9   ...   14   15  \\\n",
       "day_of_week                                                     ...             \n",
       "Friday        562  415  305  217  272  362  504  807  865  701  ...  556  528   \n",
       "Monday        550  466  270  215  234  293  440  749  816  604  ...  427  394   \n",
       "Saturday      962  826  655  589  505  483  405  488  514  564  ...  542  638   \n",
       "Sunday       1136  955  761  567  508  497  380  462  360  479  ...  508  597   \n",
       "Thursday      450  334  223  216  267  294  399  830  875  746  ...  430  434   \n",
       "Tuesday       495  352  261  193  249  310  435  866  947  708  ...  532  500   \n",
       "Wednesday     441  322  220  212  267  271  455  831  855  642  ...  437  419   \n",
       "\n",
       "hour_of_day   16   17   18   19   20    21    22    23  \n",
       "day_of_week                                             \n",
       "Friday       616  609  734  770  876   875   871   972  \n",
       "Monday       434  442  387  470  483   560   508   621  \n",
       "Saturday     701  672  762  882  971  1000  1144  1223  \n",
       "Sunday       603  543  540  624  715   773   781   693  \n",
       "Thursday     489  542  530  538  508   569   627   726  \n",
       "Tuesday      551  520  445  529  586   536   522   612  \n",
       "Wednesday    454  527  499  481  557   569   516   599  \n",
       "\n",
       "[7 rows x 24 columns]"
      ]
     },
     "execution_count": 32,
     "metadata": {},
     "output_type": "execute_result"
    }
   ],
   "source": [
    "dh_cross=pd.crosstab(df1[\"day_of_week\"],df1[\"hour_of_day\"])\n",
    "dh_cross"
   ]
  },
  {
   "cell_type": "code",
   "execution_count": 39,
   "metadata": {},
   "outputs": [
    {
     "data": {
      "text/plain": [
       "Text(0.5, 1.0, 'heat map represents the peak hours and slow hours by days')"
      ]
     },
     "execution_count": 39,
     "metadata": {},
     "output_type": "execute_result"
    },
    {
     "data": {
      "image/png": "[encoded data removed]",
      "text/plain": [
       "<Figure size 864x576 with 2 Axes>"
      ]
     },
     "metadata": {
      "needs_background": "light"
     },
     "output_type": "display_data"
    }
   ],
   "source": [
    "fig,ax=plt.subplots(figsize=(12,8))\n",
    "sns.heatmap(dh_cross,cmap='magma_r')\n",
    "plt.title(\"heat map represents the peak hours and slow hours by days\")"
   ]
  },
  {
   "cell_type": "markdown",
   "metadata": {},
   "source": [
    "* pick-up Address"
   ]
  },
  {
   "cell_type": "code",
   "execution_count": 64,
   "metadata": {},
   "outputs": [
    {
     "name": "stdout",
     "output_type": "stream",
     "text": [
      "<class 'pandas.core.frame.DataFrame'>\n",
      "RangeIndex: 10 entries, 0 to 9\n",
      "Data columns (total 2 columns):\n",
      " #   Column     Non-Null Count  Dtype \n",
      "---  ------     --------------  ----- \n",
      " 0   Address    10 non-null     object\n",
      " 1   frequency  10 non-null     int64 \n",
      "dtypes: int64(1), object(1)\n",
      "memory usage: 288.0+ bytes\n"
     ]
    }
   ],
   "source": [
    "common_loc=pd.DataFrame(df1[\"PICK UP ADDRESS\"].value_counts().head(10).reset_index())\n",
    "common_loc\n",
    "common_loc.columns=[\"Address\",\"frequency\"]\n",
    "common_loc.info()\n"
   ]
  },
  {
   "cell_type": "code",
   "execution_count": 84,
   "metadata": {},
   "outputs": [
    {
     "data": {
      "text/plain": [
       "Text(0.5, 1.0, 'Most active addresses')"
      ]
     },
     "execution_count": 84,
     "metadata": {},
     "output_type": "execute_result"
    },
    {
     "data": {
      "image/png": "[encoded data removed]",
      "text/plain": [
       "<Figure size 864x576 with 1 Axes>"
      ]
     },
     "metadata": {
      "needs_background": "light"
     },
     "output_type": "display_data"
    }
   ],
   "source": [
    "fig,ax=plt.subplots(figsize=(12,8))\n",
    "plt.bar(data=common_loc,x=\"Address\",height=\"frequency\")\n",
    "plt.xticks(rotation=45)\n",
    "plt.title(\"Most active addresses\")"
   ]
  }
 ],
 "metadata": {
  "interpreter": {
   "hash": "df1545152d57f88178dd57c74c249c893ee2adf50ef6f823c5ca99051aae602e"
  },
  "kernelspec": {
   "display_name": "Python 3.10.1 ('minimal_ds')",
   "language": "python",
   "name": "python3"
  },
  "language_info": {
   "codemirror_mode": {
    "name": "ipython",
    "version": 3
   },
   "file_extension": ".py",
   "mimetype": "text/x-python",
   "name": "python",
   "nbconvert_exporter": "python",
   "pygments_lexer": "ipython3",
   "version": "3.10.1"
  },
  "orig_nbformat": 4
 },
 "nbformat": 4,
 "nbformat_minor": 2
}
